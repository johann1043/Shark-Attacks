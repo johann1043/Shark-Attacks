{
 "cells": [
  {
   "cell_type": "code",
   "execution_count": 5,
   "id": "e4098841-231e-4e7f-baa5-9dc7f3dd1e2b",
   "metadata": {
    "tags": []
   },
   "outputs": [],
   "source": [
    "import pandas as pd"
   ]
  },
  {
   "cell_type": "code",
   "execution_count": 12,
   "id": "fad2b390-8796-485f-9a47-ff3b10270127",
   "metadata": {
    "tags": []
   },
   "outputs": [
    {
     "name": "stdout",
     "output_type": "stream",
     "text": [
      "Collecting xlrd\n",
      "  Downloading xlrd-2.0.1-py2.py3-none-any.whl (96 kB)\n",
      "     ---------------------------------------- 0.0/96.5 kB ? eta -:--:--\n",
      "     ---- ----------------------------------- 10.2/96.5 kB ? eta -:--:--\n",
      "     ---- ----------------------------------- 10.2/96.5 kB ? eta -:--:--\n",
      "     ------------------------ ------------- 61.4/96.5 kB 544.7 kB/s eta 0:00:01\n",
      "     -------------------------------------- 96.5/96.5 kB 612.0 kB/s eta 0:00:00\n",
      "Installing collected packages: xlrd\n",
      "Successfully installed xlrd-2.0.1\n",
      "Note: you may need to restart the kernel to use updated packages.\n"
     ]
    }
   ],
   "source": [
    "pip install xlrd"
   ]
  },
  {
   "cell_type": "code",
   "execution_count": 14,
   "id": "fcc74189-3a07-4ea2-91d6-250e13855136",
   "metadata": {
    "tags": []
   },
   "outputs": [],
   "source": [
    "url = 'https://www.sharkattackfile.net/spreadsheets/GSAF5.xls'\n",
    "shark_data = pd.read_excel(url)"
   ]
  },
  {
   "cell_type": "code",
   "execution_count": 16,
   "id": "c4b63516-842f-454d-af4e-10a2059e0379",
   "metadata": {
    "tags": []
   },
   "outputs": [
    {
     "data": {
      "text/plain": [
       "Date               object\n",
       "Year              float64\n",
       "Type               object\n",
       "Country            object\n",
       "State              object\n",
       "Location           object\n",
       "Activity           object\n",
       "Name               object\n",
       "Sex                object\n",
       "Age                object\n",
       "Injury             object\n",
       "Unnamed: 11        object\n",
       "Time               object\n",
       "Species            object\n",
       "Source             object\n",
       "pdf                object\n",
       "href formula       object\n",
       "href               object\n",
       "Case Number        object\n",
       "Case Number.1      object\n",
       "original order    float64\n",
       "Unnamed: 21        object\n",
       "Unnamed: 22        object\n",
       "dtype: object"
      ]
     },
     "execution_count": 16,
     "metadata": {},
     "output_type": "execute_result"
    }
   ],
   "source": [
    "shark_data.dtypes"
   ]
  },
  {
   "cell_type": "code",
   "execution_count": 17,
   "id": "00b113ca-d49f-470a-b3a0-ac5ea87104d6",
   "metadata": {
    "tags": []
   },
   "outputs": [
    {
     "data": {
      "text/plain": [
       "Date              5992\n",
       "Year               259\n",
       "Type                11\n",
       "Country            224\n",
       "State              896\n",
       "Location          4503\n",
       "Activity          1586\n",
       "Name              5677\n",
       "Sex                  8\n",
       "Age                243\n",
       "Injury            4076\n",
       "Unnamed: 11         12\n",
       "Time               410\n",
       "Species           1674\n",
       "Source            5291\n",
       "pdf               6789\n",
       "href formula      6785\n",
       "href              6776\n",
       "Case Number       6777\n",
       "Case Number.1     6775\n",
       "original order    6797\n",
       "Unnamed: 21          1\n",
       "Unnamed: 22          2\n",
       "dtype: int64"
      ]
     },
     "execution_count": 17,
     "metadata": {},
     "output_type": "execute_result"
    }
   ],
   "source": [
    "shark_data.nunique()"
   ]
  },
  {
   "cell_type": "code",
   "execution_count": null,
   "id": "21ea6778-86c0-4e67-8d66-27de14ff723d",
   "metadata": {},
   "outputs": [],
   "source": []
  }
 ],
 "metadata": {
  "kernelspec": {
   "display_name": "Python 3 (ipykernel)",
   "language": "python",
   "name": "python3"
  },
  "language_info": {
   "codemirror_mode": {
    "name": "ipython",
    "version": 3
   },
   "file_extension": ".py",
   "mimetype": "text/x-python",
   "name": "python",
   "nbconvert_exporter": "python",
   "pygments_lexer": "ipython3",
   "version": "3.11.5"
  }
 },
 "nbformat": 4,
 "nbformat_minor": 5
}
