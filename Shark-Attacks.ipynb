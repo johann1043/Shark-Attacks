{
 "cells": [
  {
   "cell_type": "code",
   "execution_count": 1,
   "id": "e4098841-231e-4e7f-baa5-9dc7f3dd1e2b",
   "metadata": {
    "tags": []
   },
   "outputs": [
    {
     "name": "stdout",
     "output_type": "stream",
     "text": [
      "Requirement already satisfied: xlrd in c:\\users\\vonke\\anaconda3\\lib\\site-packages (2.0.1)\n",
      "Note: you may need to restart the kernel to use updated packages.\n"
     ]
    }
   ],
   "source": [
    "pip install xlrd"
   ]
  },
  {
   "cell_type": "code",
   "execution_count": 506,
   "id": "21ea6778-86c0-4e67-8d66-27de14ff723d",
   "metadata": {
    "tags": []
   },
   "outputs": [],
   "source": [
    "import pandas as pd\n",
    "\n",
    "url = 'https://www.sharkattackfile.net/spreadsheets/GSAF5.xls'\n",
    "shark_df = pd.read_excel(url)"
   ]
  },
  {
   "cell_type": "code",
   "execution_count": 507,
   "id": "f4511291-7b48-42d1-970a-24926a4b9430",
   "metadata": {
    "tags": []
   },
   "outputs": [],
   "source": [
    "shark_df = shark_df.drop(['pdf', 'href formula','href','Case Number','Case Number.1','original order','Unnamed: 21','Unnamed: 22','Unnamed: 11','Source'], axis=1)"
   ]
  },
  {
   "cell_type": "code",
   "execution_count": 508,
   "id": "bf5fa6b3-052c-42a4-9130-2d606378ba7d",
   "metadata": {
    "tags": []
   },
   "outputs": [],
   "source": [
    "shark_df = shark_df.dropna(how='all')"
   ]
  },
  {
   "cell_type": "code",
   "execution_count": 509,
   "id": "d964cfb2-fc3b-4948-82d9-9e85be45110f",
   "metadata": {},
   "outputs": [],
   "source": [
    "shark_df = shark_df.dropna(subset=['Country', 'State', 'Location'])"
   ]
  },
  {
   "cell_type": "code",
   "execution_count": 510,
   "id": "f86a627f-2776-4b08-be34-d232dd5537d8",
   "metadata": {
    "tags": []
   },
   "outputs": [],
   "source": [
    "shark_df.columns = shark_df.columns.str.lower()"
   ]
  },
  {
   "cell_type": "code",
   "execution_count": 529,
   "id": "29bef8e8-b869-4bfb-b6c6-da550ee151a4",
   "metadata": {
    "tags": []
   },
   "outputs": [
    {
     "data": {
      "text/plain": [
       "Index(['date', 'year', 'type', 'country', 'state', 'location', 'activity',\n",
       "       'name', 'sex', 'age', 'injury', 'time', 'species '],\n",
       "      dtype='object')"
      ]
     },
     "execution_count": 529,
     "metadata": {},
     "output_type": "execute_result"
    }
   ],
   "source": [
    "shark_df.columns"
   ]
  },
  {
   "cell_type": "markdown",
   "id": "2fb3e839-9d98-45ae-a5ff-1df4f737a204",
   "metadata": {
    "tags": []
   },
   "source": [
    "# 1. Clean cloumn Year"
   ]
  },
  {
   "cell_type": "code",
   "execution_count": 530,
   "id": "16af6f02-9082-4f06-92dc-643ebb017fda",
   "metadata": {
    "tags": []
   },
   "outputs": [
    {
     "data": {
      "text/plain": [
       "0"
      ]
     },
     "execution_count": 530,
     "metadata": {},
     "output_type": "execute_result"
    }
   ],
   "source": [
    "# Check how many empty cells are in column year\n",
    "shark_df['year'].isna().sum()"
   ]
  },
  {
   "cell_type": "code",
   "execution_count": 531,
   "id": "b5f7cafd-67f2-48ed-bad5-96577ea6aeb8",
   "metadata": {
    "tags": []
   },
   "outputs": [],
   "source": [
    "# Only one empty cell in cloumn year, so we can replace with the Mode of column year\n",
    "shark_df.year.fillna(shark_df.year.mode()[0], inplace=True)"
   ]
  },
  {
   "cell_type": "code",
   "execution_count": 532,
   "id": "42743977-143a-444d-aafe-cded11292617",
   "metadata": {
    "tags": []
   },
   "outputs": [
    {
     "data": {
      "text/plain": [
       "array([2024, 2023, 2022, 2021, 2020, 2019, 2018, 2017, 2016, 2015, 2014,\n",
       "       2013, 2012, 2011, 2010, 2009, 2008, 2007, 2006, 2005, 2004, 2003,\n",
       "       2002, 2001, 2000, 1999, 1998, 1997, 1996, 1995, 1984, 1994, 1993,\n",
       "       1992, 1991, 1990, 1989, 1988, 1987, 1986, 1985, 1983, 1982, 1981,\n",
       "       1980, 1979, 1978, 1977, 1976, 1975, 1974, 1973, 1972, 1971, 1970,\n",
       "       1969, 1968, 1967, 1966, 1965, 1964, 1963, 1962, 1961, 1960, 1959,\n",
       "       1958, 1957, 1956, 1955, 1954, 1953, 1952, 1951, 1950, 1949, 1948,\n",
       "       1848, 1947, 1946, 1945, 1944, 1943, 1942, 1941, 1940, 1939, 1938,\n",
       "       1937, 1936, 1935, 1934, 1933, 1932, 1931, 1930, 1929, 1928, 1927,\n",
       "       1926, 1925, 1924, 1923, 1922, 1921, 1920, 1919, 1918, 1917, 1916,\n",
       "       1915, 1914, 1913, 1912, 1911, 1910, 1909, 1908, 1907, 1906, 1905,\n",
       "       1904, 1903, 1902, 1901, 1900, 1899, 1898, 1897, 1896, 1895, 1894,\n",
       "       1893, 1892, 1891, 1890, 1889, 1888, 1887, 1886, 1885, 1884, 1883,\n",
       "       1882, 1881, 1880, 1879, 1878, 1877, 1876, 1875, 1874, 1873, 1872,\n",
       "       1871, 1870, 1869, 1868, 1867, 1866, 1865, 1864, 1863, 1862, 1861,\n",
       "       1860, 1859, 1858, 1857, 1856, 1855, 1853, 1852, 1851, 1850, 1849,\n",
       "       1847, 1846, 1845, 1842, 1841, 1840, 1839, 1837, 1835, 1834, 1832,\n",
       "       1831, 1830, 1829, 1828, 1827, 1826, 1825, 1822, 1817, 1816, 1812,\n",
       "       1810, 1808, 1807, 1805, 1804, 1803, 1791, 1788, 1785, 1780, 1779,\n",
       "       1767, 1749, 1755, 1748, 1738, 1733, 1721, 1703, 1700, 1691, 1640,\n",
       "       1637, 1617, 1642, 1595, 1518, 1000])"
      ]
     },
     "execution_count": 532,
     "metadata": {},
     "output_type": "execute_result"
    }
   ],
   "source": [
    "# See if in column year, are any irregularities\n",
    "shark_df['year'].unique()"
   ]
  },
  {
   "cell_type": "code",
   "execution_count": 533,
   "id": "c0634d32-71c9-4548-8a03-132a0599e6d9",
   "metadata": {
    "tags": []
   },
   "outputs": [],
   "source": [
    "# Change all strings to integers\n",
    "shark_df['year'] = shark_df['year'].astype(int)"
   ]
  },
  {
   "cell_type": "code",
   "execution_count": 534,
   "id": "36fc4f9c-0255-4daa-9dd5-94c842b36939",
   "metadata": {
    "tags": []
   },
   "outputs": [
    {
     "data": {
      "text/html": [
       "<div>\n",
       "<style scoped>\n",
       "    .dataframe tbody tr th:only-of-type {\n",
       "        vertical-align: middle;\n",
       "    }\n",
       "\n",
       "    .dataframe tbody tr th {\n",
       "        vertical-align: top;\n",
       "    }\n",
       "\n",
       "    .dataframe thead th {\n",
       "        text-align: right;\n",
       "    }\n",
       "</style>\n",
       "<table border=\"1\" class=\"dataframe\">\n",
       "  <thead>\n",
       "    <tr style=\"text-align: right;\">\n",
       "      <th></th>\n",
       "      <th>date</th>\n",
       "      <th>year</th>\n",
       "      <th>type</th>\n",
       "      <th>country</th>\n",
       "      <th>state</th>\n",
       "      <th>location</th>\n",
       "      <th>activity</th>\n",
       "      <th>name</th>\n",
       "      <th>sex</th>\n",
       "      <th>age</th>\n",
       "      <th>injury</th>\n",
       "      <th>time</th>\n",
       "      <th>species</th>\n",
       "    </tr>\n",
       "  </thead>\n",
       "  <tbody>\n",
       "  </tbody>\n",
       "</table>\n",
       "</div>"
      ],
      "text/plain": [
       "Empty DataFrame\n",
       "Columns: [date, year, type, country, state, location, activity, name, sex, age, injury, time, species ]\n",
       "Index: []"
      ]
     },
     "execution_count": 534,
     "metadata": {},
     "output_type": "execute_result"
    }
   ],
   "source": [
    "# Filter DataFrame for years with less than 4 chracters\n",
    "condition = shark_df['year'].astype(str).apply(len) < 4\n",
    "filtered_df = shark_df[condition]\n",
    "filtered_df"
   ]
  },
  {
   "cell_type": "code",
   "execution_count": 535,
   "id": "af601e0f-8977-41e7-a743-e233ef395653",
   "metadata": {
    "tags": []
   },
   "outputs": [
    {
     "name": "stdout",
     "output_type": "stream",
     "text": [
      "[]\n"
     ]
    }
   ],
   "source": [
    "# Get the unique value of these cells\n",
    "result = shark_df['year'].unique()\n",
    "smaller_than_4 = [value for value in result if len(str(value)) < 4]\n",
    "print(smaller_than_4)"
   ]
  },
  {
   "cell_type": "code",
   "execution_count": 536,
   "id": "5a0ebade-213e-48ec-aefe-1fc5107a845c",
   "metadata": {
    "tags": []
   },
   "outputs": [],
   "source": [
    "# Replace these values with the Mode of the column year\n",
    "for item in smaller_than_4:\n",
    "    shark_df['year'] = shark_df['year'].replace(item, shark_df.year.mode()[0])"
   ]
  },
  {
   "cell_type": "code",
   "execution_count": 537,
   "id": "a217cba3-8625-4e55-8dc4-6f9f49b59fa6",
   "metadata": {
    "tags": []
   },
   "outputs": [
    {
     "data": {
      "text/plain": [
       "array([2024, 2023, 2022, 2021, 2020, 2019, 2018, 2017, 2016, 2015, 2014,\n",
       "       2013, 2012, 2011, 2010, 2009, 2008, 2007, 2006, 2005, 2004, 2003,\n",
       "       2002, 2001, 2000, 1999, 1998, 1997, 1996, 1995, 1984, 1994, 1993,\n",
       "       1992, 1991, 1990, 1989, 1988, 1987, 1986, 1985, 1983, 1982, 1981,\n",
       "       1980, 1979, 1978, 1977, 1976, 1975, 1974, 1973, 1972, 1971, 1970,\n",
       "       1969, 1968, 1967, 1966, 1965, 1964, 1963, 1962, 1961, 1960, 1959,\n",
       "       1958, 1957, 1956, 1955, 1954, 1953, 1952, 1951, 1950, 1949, 1948,\n",
       "       1848, 1947, 1946, 1945, 1944, 1943, 1942, 1941, 1940, 1939, 1938,\n",
       "       1937, 1936, 1935, 1934, 1933, 1932, 1931, 1930, 1929, 1928, 1927,\n",
       "       1926, 1925, 1924, 1923, 1922, 1921, 1920, 1919, 1918, 1917, 1916,\n",
       "       1915, 1914, 1913, 1912, 1911, 1910, 1909, 1908, 1907, 1906, 1905,\n",
       "       1904, 1903, 1902, 1901, 1900, 1899, 1898, 1897, 1896, 1895, 1894,\n",
       "       1893, 1892, 1891, 1890, 1889, 1888, 1887, 1886, 1885, 1884, 1883,\n",
       "       1882, 1881, 1880, 1879, 1878, 1877, 1876, 1875, 1874, 1873, 1872,\n",
       "       1871, 1870, 1869, 1868, 1867, 1866, 1865, 1864, 1863, 1862, 1861,\n",
       "       1860, 1859, 1858, 1857, 1856, 1855, 1853, 1852, 1851, 1850, 1849,\n",
       "       1847, 1846, 1845, 1842, 1841, 1840, 1839, 1837, 1835, 1834, 1832,\n",
       "       1831, 1830, 1829, 1828, 1827, 1826, 1825, 1822, 1817, 1816, 1812,\n",
       "       1810, 1808, 1807, 1805, 1804, 1803, 1791, 1788, 1785, 1780, 1779,\n",
       "       1767, 1749, 1755, 1748, 1738, 1733, 1721, 1703, 1700, 1691, 1640,\n",
       "       1637, 1617, 1642, 1595, 1518, 1000])"
      ]
     },
     "execution_count": 537,
     "metadata": {},
     "output_type": "execute_result"
    }
   ],
   "source": [
    "# Check again for irregularities\n",
    "shark_df['year'].unique()"
   ]
  },
  {
   "cell_type": "markdown",
   "id": "fa18b624-15e1-4839-9930-8d7ddfbf7f84",
   "metadata": {},
   "source": [
    "# 2. Clean column Date"
   ]
  },
  {
   "cell_type": "code",
   "execution_count": 538,
   "id": "aa57922b-acbc-4dc5-a4f2-f4756bfa681d",
   "metadata": {
    "tags": []
   },
   "outputs": [
    {
     "data": {
      "text/plain": [
       "0"
      ]
     },
     "execution_count": 538,
     "metadata": {},
     "output_type": "execute_result"
    }
   ],
   "source": [
    "# Check how many empty cells are in column date\n",
    "shark_df['date'].isna().sum()"
   ]
  },
  {
   "cell_type": "code",
   "execution_count": 539,
   "id": "19aa599c-7e4c-4392-acf4-96df0b277d58",
   "metadata": {},
   "outputs": [
    {
     "data": {
      "text/plain": [
       "array(['09-Jan-2024', '05-Jan-2024', '30-Dec-2023', ..., '01-Jan-1903',\n",
       "       '1900-1905', '1845-1853'], dtype=object)"
      ]
     },
     "execution_count": 539,
     "metadata": {},
     "output_type": "execute_result"
    }
   ],
   "source": [
    "# See if in column date, are any irregularities\n",
    "shark_df['date'].unique()"
   ]
  },
  {
   "cell_type": "code",
   "execution_count": 540,
   "id": "0ebcb21f-935c-4e33-8a9f-880cc60a0aae",
   "metadata": {
    "tags": []
   },
   "outputs": [],
   "source": [
    "# format\n",
    "shark_df[\"date\"] = shark_df[\"date\"].str.replace('  ', '-').str.replace(' ', '-').str.replace('--', '-').str.replace('Reported', '').str.strip()\n",
    "shark_df[\"date\"] = shark_df[\"date\"].apply(lambda x: x.split('-') if pd.notna(x) else []).apply(lambda date_list: '-'.join(filter(lambda x: x and len(x) <= 4, date_list)))\n",
    "shark_df[\"date\"] = shark_df[\"date\"].apply(lambda x: x.split('-') if pd.notna(x) else []).apply(lambda date_list: '-'.join(filter(lambda x: x and len(x) <= 4, date_list)))"
   ]
  },
  {
   "cell_type": "code",
   "execution_count": 541,
   "id": "a7f67711-33d3-48d8-a4a2-a164da8279f9",
   "metadata": {
    "tags": []
   },
   "outputs": [],
   "source": [
    "\n",
    "shark_df[\"date\"] = shark_df[\"date\"].apply(lambda x: x.split('-') if pd.notna(x) else []).apply(lambda date_list: ['01', 'Jan'] + date_list if len(date_list) == 1 and len(date_list[0]) == 4 else date_list).apply(lambda date_list: '-'.join(date_list) if date_list else '')"
   ]
  },
  {
   "cell_type": "code",
   "execution_count": 542,
   "id": "baf3a2ea-eee4-4fda-8697-9932461d4d86",
   "metadata": {
    "tags": []
   },
   "outputs": [
    {
     "data": {
      "text/plain": [
       "array(['09-Jan-2024', '05-Jan-2024', '30-Dec-2023', ..., '01-Jan-1903',\n",
       "       '1900-1905', '1845-1853'], dtype=object)"
      ]
     },
     "execution_count": 542,
     "metadata": {},
     "output_type": "execute_result"
    }
   ],
   "source": [
    "shark_df['date'].unique()"
   ]
  },
  {
   "cell_type": "code",
   "execution_count": 543,
   "id": "adeb0729-2683-4b0c-9d32-c8ff4511426f",
   "metadata": {
    "tags": []
   },
   "outputs": [],
   "source": [
    "#shark_df[\"date\"] = pd.to_datetime(shark_df.date,format='%d-%m-%y')"
   ]
  },
  {
   "cell_type": "code",
   "execution_count": 544,
   "id": "13668a65-2f27-4748-a2c4-4b89849cfec2",
   "metadata": {
    "tags": []
   },
   "outputs": [],
   "source": [
    "# date_formats = ['%d-%m-%y', '%d-%b-%Y']\n",
    "\n",
    "# for format in date_formats:\n",
    "#     try:\n",
    "#         shark_df[\"date\"] = pd.to_datetime(shark_df[\"date\"], format=format)\n",
    "#         break  # Break out of the loop if a format is successfully applied\n",
    "#     except ValueError:\n",
    "#         print(f\"Unable to parse dates with format {format}\")\n",
    "#         print(\"Problematic dates:\")\n",
    "#         print(shark_df.loc[pd.to_datetime(shark_df[\"date\"], errors='coerce').isnull(), \"date\"])\n",
    "#         shark_df[\"date\"] = ''  # Set an empty string if the format is not successfully applied\n",
    "\n",
    "# # Now, shark_df[\"date\"] should contain the parsed dates with the correct format, or empty strings for unsuccessful cases."
   ]
  },
  {
   "cell_type": "code",
   "execution_count": 545,
   "id": "6c92da21-955e-4aa2-a0ba-5b1caa4fb4fe",
   "metadata": {
    "tags": []
   },
   "outputs": [
    {
     "name": "stdout",
     "output_type": "stream",
     "text": [
      "Unable to parse dates with formats %d-%m-%y, %d-%b-%Y, and %d-%B-%Y\n",
      "Problematic dates:\n",
      "63                          14-June-2023\n",
      "207                               11-Dec\n",
      "212                          15-Nox-2021\n",
      "373                           10-Jul-202\n",
      "592                               09-Jul\n",
      "                      ...               \n",
      "6911                             No-date\n",
      "6912                           1920-1923\n",
      "6919    No-date-(3-days-&-to-19-Jul-1913\n",
      "6929                           1900-1905\n",
      "6931                           1845-1853\n",
      "Name: date, Length: 535, dtype: object\n"
     ]
    }
   ],
   "source": [
    "format_1 = '%d-%m-%y'\n",
    "format_2 = '%d-%b-%Y'\n",
    "format_3 = '%d-%B-%Y'\n",
    "\n",
    "try:\n",
    "    shark_df[\"date\"] = pd.to_datetime(shark_df[\"date\"], format=format_1)\n",
    "except ValueError:\n",
    "    try:\n",
    "        shark_df[\"date\"] = pd.to_datetime(shark_df[\"date\"], format=format_2)\n",
    "    except ValueError:\n",
    "        try:\n",
    "            shark_df[\"date\"] = pd.to_datetime(shark_df[\"date\"], format=format_3)\n",
    "        except ValueError:\n",
    "            print(f\"Unable to parse dates with formats {format_1}, {format_2}, and {format_3}\")\n",
    "            print(\"Problematic dates:\")\n",
    "            problematic_dates = shark_df.loc[pd.to_datetime(shark_df[\"date\"], errors='coerce').isnull(), \"date\"]\n",
    "            print(problematic_dates)\n",
    "            shark_df[\"date\"] = ''  # Set an empty string if the formats are not successfully applied\n"
   ]
  },
  {
   "cell_type": "code",
   "execution_count": 550,
   "id": "0d20fa01-8200-43f2-a5f8-e94ba11fbd46",
   "metadata": {
    "tags": []
   },
   "outputs": [
    {
     "data": {
      "text/plain": [
       "0        \n",
       "1        \n",
       "2        \n",
       "3        \n",
       "4        \n",
       "       ..\n",
       "6922     \n",
       "6926     \n",
       "6927     \n",
       "6929     \n",
       "6931     \n",
       "Name: date, Length: 6132, dtype: object"
      ]
     },
     "execution_count": 550,
     "metadata": {},
     "output_type": "execute_result"
    }
   ],
   "source": [
    "shark_df[\"date\"]"
   ]
  },
  {
   "cell_type": "code",
   "execution_count": 547,
   "id": "8c51dc30-e3f6-4de6-b604-e0faac07ca53",
   "metadata": {
    "tags": []
   },
   "outputs": [
    {
     "data": {
      "text/plain": [
       "0"
      ]
     },
     "execution_count": 547,
     "metadata": {},
     "output_type": "execute_result"
    }
   ],
   "source": [
    "shark_df['date'].isna().sum()"
   ]
  },
  {
   "cell_type": "code",
   "execution_count": null,
   "id": "3fd25afa-5eb8-43c7-a461-84299559c48c",
   "metadata": {
    "tags": []
   },
   "outputs": [],
   "source": [
    "# Filter DataFrame  with less than 4 chracters\n",
    "condition = shark_df['date']\n",
    "filtered_df = shark_df[condition]\n",
    "filtered_df"
   ]
  },
  {
   "cell_type": "code",
   "execution_count": null,
   "id": "dc54b67c-3ddc-4ee9-8cc1-676444a4a90e",
   "metadata": {},
   "outputs": [],
   "source": []
  },
  {
   "cell_type": "code",
   "execution_count": null,
   "id": "832eedf1-6307-4d00-8df4-c7dbe4f69226",
   "metadata": {},
   "outputs": [],
   "source": []
  },
  {
   "cell_type": "code",
   "execution_count": null,
   "id": "1e2dd851-d238-435a-87e8-74928eabeec3",
   "metadata": {},
   "outputs": [],
   "source": []
  }
 ],
 "metadata": {
  "kernelspec": {
   "display_name": "Python 3 (ipykernel)",
   "language": "python",
   "name": "python3"
  },
  "language_info": {
   "codemirror_mode": {
    "name": "ipython",
    "version": 3
   },
   "file_extension": ".py",
   "mimetype": "text/x-python",
   "name": "python",
   "nbconvert_exporter": "python",
   "pygments_lexer": "ipython3",
   "version": "3.11.5"
  }
 },
 "nbformat": 4,
 "nbformat_minor": 5
}
