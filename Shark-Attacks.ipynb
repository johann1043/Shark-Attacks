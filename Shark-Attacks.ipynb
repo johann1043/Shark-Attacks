{
 "cells": [
  {
   "cell_type": "code",
   "execution_count": 1,
   "id": "e4098841-231e-4e7f-baa5-9dc7f3dd1e2b",
   "metadata": {
    "tags": []
   },
   "outputs": [
    {
     "name": "stdout",
     "output_type": "stream",
     "text": [
      "Requirement already satisfied: xlrd in c:\\users\\vonke\\anaconda3\\lib\\site-packages (2.0.1)\n",
      "Note: you may need to restart the kernel to use updated packages.\n"
     ]
    }
   ],
   "source": [
    "pip install xlrd"
   ]
  },
  {
   "cell_type": "code",
   "execution_count": 651,
   "id": "21ea6778-86c0-4e67-8d66-27de14ff723d",
   "metadata": {
    "tags": []
   },
   "outputs": [],
   "source": [
    "import pandas as pd\n",
    "\n",
    "url = 'https://www.sharkattackfile.net/spreadsheets/GSAF5.xls'\n",
    "shark_df = pd.read_excel(url)"
   ]
  },
  {
   "cell_type": "code",
   "execution_count": 652,
   "id": "f4511291-7b48-42d1-970a-24926a4b9430",
   "metadata": {
    "tags": []
   },
   "outputs": [],
   "source": [
    "shark_df = shark_df.drop(['pdf', 'href formula','href','Case Number','Case Number.1','original order','Unnamed: 21','Unnamed: 22','Unnamed: 11','Source'], axis=1)"
   ]
  },
  {
   "cell_type": "code",
   "execution_count": 653,
   "id": "bf5fa6b3-052c-42a4-9130-2d606378ba7d",
   "metadata": {
    "tags": []
   },
   "outputs": [],
   "source": [
    "shark_df = shark_df.dropna(how='all')"
   ]
  },
  {
   "cell_type": "code",
   "execution_count": 654,
   "id": "d964cfb2-fc3b-4948-82d9-9e85be45110f",
   "metadata": {},
   "outputs": [],
   "source": [
    "shark_df = shark_df.dropna(subset=['Country', 'State', 'Location'])"
   ]
  },
  {
   "cell_type": "code",
   "execution_count": 655,
   "id": "f86a627f-2776-4b08-be34-d232dd5537d8",
   "metadata": {
    "tags": []
   },
   "outputs": [],
   "source": [
    "shark_df.columns = shark_df.columns.str.lower()"
   ]
  },
  {
   "cell_type": "code",
   "execution_count": 656,
   "id": "29bef8e8-b869-4bfb-b6c6-da550ee151a4",
   "metadata": {
    "tags": []
   },
   "outputs": [
    {
     "data": {
      "text/plain": [
       "Index(['date', 'year', 'type', 'country', 'state', 'location', 'activity',\n",
       "       'name', 'sex', 'age', 'injury', 'time', 'species '],\n",
       "      dtype='object')"
      ]
     },
     "execution_count": 656,
     "metadata": {},
     "output_type": "execute_result"
    }
   ],
   "source": [
    "shark_df.columns"
   ]
  },
  {
   "cell_type": "markdown",
   "id": "2fb3e839-9d98-45ae-a5ff-1df4f737a204",
   "metadata": {
    "tags": []
   },
   "source": [
    "# 1. Clean cloumn Year"
   ]
  },
  {
   "cell_type": "code",
   "execution_count": 657,
   "id": "16af6f02-9082-4f06-92dc-643ebb017fda",
   "metadata": {
    "tags": []
   },
   "outputs": [
    {
     "data": {
      "text/plain": [
       "1"
      ]
     },
     "execution_count": 657,
     "metadata": {},
     "output_type": "execute_result"
    }
   ],
   "source": [
    "# Check how many empty cells are in column year\n",
    "shark_df['year'].isna().sum()"
   ]
  },
  {
   "cell_type": "code",
   "execution_count": 658,
   "id": "b5f7cafd-67f2-48ed-bad5-96577ea6aeb8",
   "metadata": {
    "tags": []
   },
   "outputs": [],
   "source": [
    "# Only one empty cell in cloumn year, so we can replace with the Mode of column year\n",
    "shark_df.year.fillna(shark_df.year.mode()[0], inplace=True)"
   ]
  },
  {
   "cell_type": "code",
   "execution_count": 659,
   "id": "42743977-143a-444d-aafe-cded11292617",
   "metadata": {
    "tags": []
   },
   "outputs": [
    {
     "data": {
      "text/plain": [
       "array([2024., 2023., 2022., 2021., 2020., 2019., 2018., 2017., 2016.,\n",
       "       2015., 2014., 2013., 2012., 2011., 2010., 2009., 2008., 2007.,\n",
       "       2006., 2005., 2004., 2003., 2002., 2001., 2000., 1999., 1998.,\n",
       "       1997., 1996., 1995., 1984., 1994., 1993., 1992., 1991., 1990.,\n",
       "       1989., 1988., 1987., 1986., 1985., 1983., 1982., 1981., 1980.,\n",
       "       1979., 1978., 1977., 1976., 1975., 1974., 1973., 1972., 1971.,\n",
       "       1970., 1969., 1968., 1967., 1966., 1965., 1964., 1963., 1962.,\n",
       "       1961., 1960., 1959., 1958., 1957., 1956., 1955., 1954., 1953.,\n",
       "       1952., 1951., 1950., 1949., 1948., 1848., 1947., 1946., 1945.,\n",
       "       1944., 1943., 1942., 1941., 1940., 1939., 1938., 1937., 1936.,\n",
       "       1935., 1934., 1933., 1932., 1931., 1930., 1929., 1928., 1927.,\n",
       "       1926., 1925., 1924., 1923., 1922., 1921., 1920., 1919., 1918.,\n",
       "       1917., 1916., 1915., 1914., 1913., 1912., 1911., 1910., 1909.,\n",
       "       1908., 1907., 1906., 1905., 1904., 1903., 1902., 1901., 1900.,\n",
       "       1899., 1898., 1897., 1896., 1895., 1894., 1893., 1892., 1891.,\n",
       "       1890., 1889., 1888., 1887., 1886., 1885., 1884., 1883., 1882.,\n",
       "       1881., 1880., 1879., 1878., 1877., 1876., 1875., 1874., 1873.,\n",
       "       1872., 1871., 1870., 1869., 1868., 1867., 1866., 1865., 1864.,\n",
       "       1863., 1862., 1861., 1860., 1859., 1858., 1857., 1856., 1855.,\n",
       "       1853., 1852., 1851., 1850., 1849., 1847., 1846., 1845., 1842.,\n",
       "       1841., 1840., 1839., 1837., 1835., 1834., 1832., 1831., 1830.,\n",
       "       1829., 1828., 1827., 1826., 1825., 1822., 1817., 1816., 1812.,\n",
       "       1810., 1808., 1807., 1805., 1804., 1803., 1791., 1788., 1785.,\n",
       "       1780., 1779., 1767., 1749., 1755., 1748., 1738., 1733., 1721.,\n",
       "       1703., 1700., 1691., 1640., 1637., 1617., 1642., 1595., 1518.,\n",
       "       1000.,    5.,    0.])"
      ]
     },
     "execution_count": 659,
     "metadata": {},
     "output_type": "execute_result"
    }
   ],
   "source": [
    "# See if in column year, are any irregularities\n",
    "shark_df['year'].unique()"
   ]
  },
  {
   "cell_type": "code",
   "execution_count": 660,
   "id": "c0634d32-71c9-4548-8a03-132a0599e6d9",
   "metadata": {
    "tags": []
   },
   "outputs": [],
   "source": [
    "# Change all strings to integers\n",
    "shark_df['year'] = shark_df['year'].astype(int)"
   ]
  },
  {
   "cell_type": "code",
   "execution_count": 661,
   "id": "36fc4f9c-0255-4daa-9dd5-94c842b36939",
   "metadata": {
    "tags": []
   },
   "outputs": [
    {
     "data": {
      "text/html": [
       "<div>\n",
       "<style scoped>\n",
       "    .dataframe tbody tr th:only-of-type {\n",
       "        vertical-align: middle;\n",
       "    }\n",
       "\n",
       "    .dataframe tbody tr th {\n",
       "        vertical-align: top;\n",
       "    }\n",
       "\n",
       "    .dataframe thead th {\n",
       "        text-align: right;\n",
       "    }\n",
       "</style>\n",
       "<table border=\"1\" class=\"dataframe\">\n",
       "  <thead>\n",
       "    <tr style=\"text-align: right;\">\n",
       "      <th></th>\n",
       "      <th>date</th>\n",
       "      <th>year</th>\n",
       "      <th>type</th>\n",
       "      <th>country</th>\n",
       "      <th>state</th>\n",
       "      <th>location</th>\n",
       "      <th>activity</th>\n",
       "      <th>name</th>\n",
       "      <th>sex</th>\n",
       "      <th>age</th>\n",
       "      <th>injury</th>\n",
       "      <th>time</th>\n",
       "      <th>species</th>\n",
       "    </tr>\n",
       "  </thead>\n",
       "  <tbody>\n",
       "    <tr>\n",
       "      <th>6802</th>\n",
       "      <td>Ca. 5 A.D.</td>\n",
       "      <td>5</td>\n",
       "      <td>Unprovoked</td>\n",
       "      <td>AUSTRALIA</td>\n",
       "      <td>New South Wales</td>\n",
       "      <td>Bondi</td>\n",
       "      <td>NaN</td>\n",
       "      <td>male</td>\n",
       "      <td>M</td>\n",
       "      <td>NaN</td>\n",
       "      <td>Aboriginal rock carving depicts man being atta...</td>\n",
       "      <td>NaN</td>\n",
       "      <td>NaN</td>\n",
       "    </tr>\n",
       "    <tr>\n",
       "      <th>6804</th>\n",
       "      <td>Ca. 336.B.C..</td>\n",
       "      <td>0</td>\n",
       "      <td>Unprovoked</td>\n",
       "      <td>GREECE</td>\n",
       "      <td>Piraeus</td>\n",
       "      <td>In the haven of Cantharus</td>\n",
       "      <td>Washing his pig in preparation for a religious...</td>\n",
       "      <td>A candidate for initiation</td>\n",
       "      <td>M</td>\n",
       "      <td>NaN</td>\n",
       "      <td>FATAL, shark \"bit off all lower parts of him u...</td>\n",
       "      <td>NaN</td>\n",
       "      <td>NaN</td>\n",
       "    </tr>\n",
       "    <tr>\n",
       "      <th>6806</th>\n",
       "      <td>Ca. 725 B.C.</td>\n",
       "      <td>0</td>\n",
       "      <td>Sea Disaster</td>\n",
       "      <td>ITALY</td>\n",
       "      <td>Tyrrhenian Sea</td>\n",
       "      <td>Krater found during excavations at Lacco Ameno...</td>\n",
       "      <td>Shipwreck</td>\n",
       "      <td>males</td>\n",
       "      <td>M</td>\n",
       "      <td>NaN</td>\n",
       "      <td>Depicts shipwrecked sailors  attacked by a sha...</td>\n",
       "      <td>NaN</td>\n",
       "      <td>NaN</td>\n",
       "    </tr>\n",
       "    <tr>\n",
       "      <th>6808</th>\n",
       "      <td>Ca 4000 BC</td>\n",
       "      <td>0</td>\n",
       "      <td>NaN</td>\n",
       "      <td>PERU</td>\n",
       "      <td>Paloma</td>\n",
       "      <td>Archeological site</td>\n",
       "      <td>NaN</td>\n",
       "      <td>male</td>\n",
       "      <td>M</td>\n",
       "      <td>17</td>\n",
       "      <td>FATAL</td>\n",
       "      <td>NaN</td>\n",
       "      <td>NaN</td>\n",
       "    </tr>\n",
       "    <tr>\n",
       "      <th>6810</th>\n",
       "      <td>After 2013</td>\n",
       "      <td>0</td>\n",
       "      <td>Unprovoked</td>\n",
       "      <td>AUSTRALIA</td>\n",
       "      <td>Queensland</td>\n",
       "      <td>Otter Reef</td>\n",
       "      <td>Spearfishing</td>\n",
       "      <td>Reece Pla</td>\n",
       "      <td>M</td>\n",
       "      <td>NaN</td>\n",
       "      <td>Shark bumped him, but no injury</td>\n",
       "      <td>NaN</td>\n",
       "      <td>Hammerhead shark</td>\n",
       "    </tr>\n",
       "    <tr>\n",
       "      <th>...</th>\n",
       "      <td>...</td>\n",
       "      <td>...</td>\n",
       "      <td>...</td>\n",
       "      <td>...</td>\n",
       "      <td>...</td>\n",
       "      <td>...</td>\n",
       "      <td>...</td>\n",
       "      <td>...</td>\n",
       "      <td>...</td>\n",
       "      <td>...</td>\n",
       "      <td>...</td>\n",
       "      <td>...</td>\n",
       "      <td>...</td>\n",
       "    </tr>\n",
       "    <tr>\n",
       "      <th>6922</th>\n",
       "      <td>Circa 1862</td>\n",
       "      <td>0</td>\n",
       "      <td>Unprovoked</td>\n",
       "      <td>USA</td>\n",
       "      <td>Hawaii</td>\n",
       "      <td>Puna</td>\n",
       "      <td>NaN</td>\n",
       "      <td>A \"chiefess\"</td>\n",
       "      <td>F</td>\n",
       "      <td>NaN</td>\n",
       "      <td>Ankle bitten</td>\n",
       "      <td>NaN</td>\n",
       "      <td>NaN</td>\n",
       "    </tr>\n",
       "    <tr>\n",
       "      <th>6926</th>\n",
       "      <td>Before 1906</td>\n",
       "      <td>0</td>\n",
       "      <td>Unprovoked</td>\n",
       "      <td>AUSTRALIA</td>\n",
       "      <td>New South Wales</td>\n",
       "      <td></td>\n",
       "      <td>Swimming</td>\n",
       "      <td>Arab boy</td>\n",
       "      <td>M</td>\n",
       "      <td>NaN</td>\n",
       "      <td>FATAL</td>\n",
       "      <td>NaN</td>\n",
       "      <td>Said to involve a grey nurse shark that leapt ...</td>\n",
       "    </tr>\n",
       "    <tr>\n",
       "      <th>6927</th>\n",
       "      <td>Before 1903</td>\n",
       "      <td>0</td>\n",
       "      <td>Unprovoked</td>\n",
       "      <td>AUSTRALIA</td>\n",
       "      <td>Western Australia</td>\n",
       "      <td>Roebuck Bay</td>\n",
       "      <td>Diving</td>\n",
       "      <td>male</td>\n",
       "      <td>M</td>\n",
       "      <td>NaN</td>\n",
       "      <td>FATAL</td>\n",
       "      <td>NaN</td>\n",
       "      <td>NaN</td>\n",
       "    </tr>\n",
       "    <tr>\n",
       "      <th>6929</th>\n",
       "      <td>1900-1905</td>\n",
       "      <td>0</td>\n",
       "      <td>Unprovoked</td>\n",
       "      <td>USA</td>\n",
       "      <td>North Carolina</td>\n",
       "      <td>Ocracoke Inlet</td>\n",
       "      <td>Swimming</td>\n",
       "      <td>Coast Guard personnel</td>\n",
       "      <td>M</td>\n",
       "      <td>NaN</td>\n",
       "      <td>FATAL</td>\n",
       "      <td>NaN</td>\n",
       "      <td>NaN</td>\n",
       "    </tr>\n",
       "    <tr>\n",
       "      <th>6931</th>\n",
       "      <td>1845-1853</td>\n",
       "      <td>0</td>\n",
       "      <td>Unprovoked</td>\n",
       "      <td>CEYLON (SRI LANKA)</td>\n",
       "      <td>Eastern Province</td>\n",
       "      <td>Below the English fort, Trincomalee</td>\n",
       "      <td>Swimming</td>\n",
       "      <td>male</td>\n",
       "      <td>M</td>\n",
       "      <td>15</td>\n",
       "      <td>FATAL. \"Shark bit him in half, carrying away t...</td>\n",
       "      <td>NaN</td>\n",
       "      <td>NaN</td>\n",
       "    </tr>\n",
       "  </tbody>\n",
       "</table>\n",
       "<p>90 rows × 13 columns</p>\n",
       "</div>"
      ],
      "text/plain": [
       "               date  year          type             country  \\\n",
       "6802     Ca. 5 A.D.     5    Unprovoked           AUSTRALIA   \n",
       "6804  Ca. 336.B.C..     0    Unprovoked              GREECE   \n",
       "6806   Ca. 725 B.C.     0  Sea Disaster               ITALY   \n",
       "6808     Ca 4000 BC     0           NaN                PERU   \n",
       "6810     After 2013     0    Unprovoked           AUSTRALIA   \n",
       "...             ...   ...           ...                 ...   \n",
       "6922     Circa 1862     0    Unprovoked                 USA   \n",
       "6926    Before 1906     0    Unprovoked           AUSTRALIA   \n",
       "6927    Before 1903     0    Unprovoked           AUSTRALIA   \n",
       "6929      1900-1905     0    Unprovoked                 USA   \n",
       "6931      1845-1853     0    Unprovoked  CEYLON (SRI LANKA)   \n",
       "\n",
       "                  state                                           location  \\\n",
       "6802    New South Wales                                              Bondi   \n",
       "6804            Piraeus                          In the haven of Cantharus   \n",
       "6806     Tyrrhenian Sea  Krater found during excavations at Lacco Ameno...   \n",
       "6808             Paloma                                 Archeological site   \n",
       "6810         Queensland                                         Otter Reef   \n",
       "...                 ...                                                ...   \n",
       "6922             Hawaii                                               Puna   \n",
       "6926    New South Wales                                                      \n",
       "6927  Western Australia                                        Roebuck Bay   \n",
       "6929     North Carolina                                     Ocracoke Inlet   \n",
       "6931   Eastern Province                Below the English fort, Trincomalee   \n",
       "\n",
       "                                               activity  \\\n",
       "6802                                                NaN   \n",
       "6804  Washing his pig in preparation for a religious...   \n",
       "6806                                          Shipwreck   \n",
       "6808                                                NaN   \n",
       "6810                                      Spearfishing    \n",
       "...                                                 ...   \n",
       "6922                                                NaN   \n",
       "6926                                           Swimming   \n",
       "6927                                             Diving   \n",
       "6929                                           Swimming   \n",
       "6931                                           Swimming   \n",
       "\n",
       "                            name sex  age  \\\n",
       "6802                        male   M  NaN   \n",
       "6804  A candidate for initiation   M  NaN   \n",
       "6806                       males   M  NaN   \n",
       "6808                        male   M   17   \n",
       "6810                   Reece Pla   M  NaN   \n",
       "...                          ...  ..  ...   \n",
       "6922                A \"chiefess\"   F  NaN   \n",
       "6926                    Arab boy   M  NaN   \n",
       "6927                        male   M  NaN   \n",
       "6929       Coast Guard personnel   M  NaN   \n",
       "6931                        male   M   15   \n",
       "\n",
       "                                                 injury time  \\\n",
       "6802  Aboriginal rock carving depicts man being atta...  NaN   \n",
       "6804  FATAL, shark \"bit off all lower parts of him u...  NaN   \n",
       "6806  Depicts shipwrecked sailors  attacked by a sha...  NaN   \n",
       "6808                                              FATAL  NaN   \n",
       "6810                    Shark bumped him, but no injury  NaN   \n",
       "...                                                 ...  ...   \n",
       "6922                                       Ankle bitten  NaN   \n",
       "6926                                              FATAL  NaN   \n",
       "6927                                              FATAL  NaN   \n",
       "6929                                              FATAL  NaN   \n",
       "6931  FATAL. \"Shark bit him in half, carrying away t...  NaN   \n",
       "\n",
       "                                               species   \n",
       "6802                                                NaN  \n",
       "6804                                                NaN  \n",
       "6806                                                NaN  \n",
       "6808                                                NaN  \n",
       "6810                                   Hammerhead shark  \n",
       "...                                                 ...  \n",
       "6922                                                NaN  \n",
       "6926  Said to involve a grey nurse shark that leapt ...  \n",
       "6927                                                NaN  \n",
       "6929                                                NaN  \n",
       "6931                                                NaN  \n",
       "\n",
       "[90 rows x 13 columns]"
      ]
     },
     "execution_count": 661,
     "metadata": {},
     "output_type": "execute_result"
    }
   ],
   "source": [
    "# Filter DataFrame for years with less than 4 chracters\n",
    "condition = shark_df['year'].astype(str).apply(len) < 4\n",
    "filtered_df = shark_df[condition]\n",
    "filtered_df"
   ]
  },
  {
   "cell_type": "code",
   "execution_count": 662,
   "id": "af601e0f-8977-41e7-a743-e233ef395653",
   "metadata": {
    "tags": []
   },
   "outputs": [
    {
     "name": "stdout",
     "output_type": "stream",
     "text": [
      "[5, 0]\n"
     ]
    }
   ],
   "source": [
    "# Get the unique value of these cells\n",
    "result = shark_df['year'].unique()\n",
    "smaller_than_4 = [value for value in result if len(str(value)) < 4]\n",
    "print(smaller_than_4)"
   ]
  },
  {
   "cell_type": "code",
   "execution_count": 663,
   "id": "5a0ebade-213e-48ec-aefe-1fc5107a845c",
   "metadata": {
    "tags": []
   },
   "outputs": [],
   "source": [
    "# Replace these values with the Mode of the column year\n",
    "for item in smaller_than_4:\n",
    "    shark_df['year'] = shark_df['year'].replace(item, shark_df.year.mode()[0])"
   ]
  },
  {
   "cell_type": "code",
   "execution_count": 664,
   "id": "a217cba3-8625-4e55-8dc4-6f9f49b59fa6",
   "metadata": {
    "tags": []
   },
   "outputs": [
    {
     "data": {
      "text/plain": [
       "array([2024, 2023, 2022, 2021, 2020, 2019, 2018, 2017, 2016, 2015, 2014,\n",
       "       2013, 2012, 2011, 2010, 2009, 2008, 2007, 2006, 2005, 2004, 2003,\n",
       "       2002, 2001, 2000, 1999, 1998, 1997, 1996, 1995, 1984, 1994, 1993,\n",
       "       1992, 1991, 1990, 1989, 1988, 1987, 1986, 1985, 1983, 1982, 1981,\n",
       "       1980, 1979, 1978, 1977, 1976, 1975, 1974, 1973, 1972, 1971, 1970,\n",
       "       1969, 1968, 1967, 1966, 1965, 1964, 1963, 1962, 1961, 1960, 1959,\n",
       "       1958, 1957, 1956, 1955, 1954, 1953, 1952, 1951, 1950, 1949, 1948,\n",
       "       1848, 1947, 1946, 1945, 1944, 1943, 1942, 1941, 1940, 1939, 1938,\n",
       "       1937, 1936, 1935, 1934, 1933, 1932, 1931, 1930, 1929, 1928, 1927,\n",
       "       1926, 1925, 1924, 1923, 1922, 1921, 1920, 1919, 1918, 1917, 1916,\n",
       "       1915, 1914, 1913, 1912, 1911, 1910, 1909, 1908, 1907, 1906, 1905,\n",
       "       1904, 1903, 1902, 1901, 1900, 1899, 1898, 1897, 1896, 1895, 1894,\n",
       "       1893, 1892, 1891, 1890, 1889, 1888, 1887, 1886, 1885, 1884, 1883,\n",
       "       1882, 1881, 1880, 1879, 1878, 1877, 1876, 1875, 1874, 1873, 1872,\n",
       "       1871, 1870, 1869, 1868, 1867, 1866, 1865, 1864, 1863, 1862, 1861,\n",
       "       1860, 1859, 1858, 1857, 1856, 1855, 1853, 1852, 1851, 1850, 1849,\n",
       "       1847, 1846, 1845, 1842, 1841, 1840, 1839, 1837, 1835, 1834, 1832,\n",
       "       1831, 1830, 1829, 1828, 1827, 1826, 1825, 1822, 1817, 1816, 1812,\n",
       "       1810, 1808, 1807, 1805, 1804, 1803, 1791, 1788, 1785, 1780, 1779,\n",
       "       1767, 1749, 1755, 1748, 1738, 1733, 1721, 1703, 1700, 1691, 1640,\n",
       "       1637, 1617, 1642, 1595, 1518, 1000])"
      ]
     },
     "execution_count": 664,
     "metadata": {},
     "output_type": "execute_result"
    }
   ],
   "source": [
    "# Check again for irregularities\n",
    "shark_df['year'].unique()"
   ]
  },
  {
   "cell_type": "markdown",
   "id": "fa18b624-15e1-4839-9930-8d7ddfbf7f84",
   "metadata": {},
   "source": [
    "# 2. Clean column Date"
   ]
  },
  {
   "cell_type": "code",
   "execution_count": 665,
   "id": "aa57922b-acbc-4dc5-a4f2-f4756bfa681d",
   "metadata": {
    "tags": []
   },
   "outputs": [
    {
     "data": {
      "text/plain": [
       "0"
      ]
     },
     "execution_count": 665,
     "metadata": {},
     "output_type": "execute_result"
    }
   ],
   "source": [
    "# Check how many empty cells are in column date\n",
    "shark_df['date'].isna().sum()"
   ]
  },
  {
   "cell_type": "code",
   "execution_count": 666,
   "id": "19aa599c-7e4c-4392-acf4-96df0b277d58",
   "metadata": {},
   "outputs": [
    {
     "data": {
      "text/plain": [
       "array(['09-Jan-2024', '05-Jan-2024', '30 Dec-2023', ..., 'Before 1903',\n",
       "       '1900-1905', '1845-1853'], dtype=object)"
      ]
     },
     "execution_count": 666,
     "metadata": {},
     "output_type": "execute_result"
    }
   ],
   "source": [
    "# See if in column date, are any irregularities\n",
    "shark_df['date'].unique()"
   ]
  },
  {
   "cell_type": "code",
   "execution_count": 667,
   "id": "0ebcb21f-935c-4e33-8a9f-880cc60a0aae",
   "metadata": {
    "tags": []
   },
   "outputs": [],
   "source": [
    "# format\n",
    "shark_df[\"date\"] = shark_df[\"date\"].str.replace('  ', '-').str.replace(' ', '-').str.replace('--', '-').str.replace('Reported', '').str.strip()\n",
    "shark_df[\"date\"] = shark_df[\"date\"].apply(lambda x: x.split('-') if pd.notna(x) else []).apply(lambda date_list: '-'.join(filter(lambda x: x and len(x) <= 10, date_list)))\n",
    "shark_df[\"date\"] = shark_df[\"date\"].apply(lambda x: x.split('-') if pd.notna(x) else []).apply(lambda date_list: date_list[:2] + [date_list[2][:3]] if len(date_list) == 3 else date_list).apply(lambda date_list: '-'.join(date_list))\n",
    "shark_df[\"date\"] = shark_df[\"date\"].apply(lambda x: x.split('-') if pd.notna(x) else []).apply(lambda date_list: ['01', 'Jan'] + date_list if len(date_list) == 1 and len(date_list[0]) == 4 else date_list).apply(lambda date_list: '-'.join(date_list) if date_list else '')\n"
   ]
  },
  {
   "cell_type": "code",
   "execution_count": null,
   "id": "a7f67711-33d3-48d8-a4a2-a164da8279f9",
   "metadata": {
    "tags": []
   },
   "outputs": [],
   "source": [
    "\n"
   ]
  },
  {
   "cell_type": "code",
   "execution_count": 668,
   "id": "baf3a2ea-eee4-4fda-8697-9932461d4d86",
   "metadata": {
    "tags": []
   },
   "outputs": [
    {
     "data": {
      "text/plain": [
       "array(['09-Jan-202', '05-Jan-202', '30-Dec-202', ..., 'Before-1903',\n",
       "       '1900-1905', '1845-1853'], dtype=object)"
      ]
     },
     "execution_count": 668,
     "metadata": {},
     "output_type": "execute_result"
    }
   ],
   "source": [
    "shark_df['date'].unique()"
   ]
  },
  {
   "cell_type": "code",
   "execution_count": 669,
   "id": "adeb0729-2683-4b0c-9d32-c8ff4511426f",
   "metadata": {
    "tags": []
   },
   "outputs": [],
   "source": [
    "#shark_df[\"date\"] = pd.to_datetime(shark_df.date,format='%d-%m-%y')"
   ]
  },
  {
   "cell_type": "code",
   "execution_count": 670,
   "id": "13668a65-2f27-4748-a2c4-4b89849cfec2",
   "metadata": {
    "tags": []
   },
   "outputs": [],
   "source": [
    "# date_formats = ['%d-%m-%y', '%d-%b-%Y']\n",
    "\n",
    "# for format in date_formats:\n",
    "#     try:\n",
    "#         shark_df[\"date\"] = pd.to_datetime(shark_df[\"date\"], format=format)\n",
    "#         break  # Break out of the loop if a format is successfully applied\n",
    "#     except ValueError:\n",
    "#         print(f\"Unable to parse dates with format {format}\")\n",
    "#         print(\"Problematic dates:\")\n",
    "#         print(shark_df.loc[pd.to_datetime(shark_df[\"date\"], errors='coerce').isnull(), \"date\"])\n",
    "#         shark_df[\"date\"] = ''  # Set an empty string if the format is not successfully applied\n",
    "\n",
    "# # Now, shark_df[\"date\"] should contain the parsed dates with the correct format, or empty strings for unsuccessful cases."
   ]
  },
  {
   "cell_type": "code",
   "execution_count": 671,
   "id": "6c92da21-955e-4aa2-a0ba-5b1caa4fb4fe",
   "metadata": {
    "tags": []
   },
   "outputs": [
    {
     "name": "stdout",
     "output_type": "stream",
     "text": [
      "Unable to parse dates with formats %d-%m-%y, %d-%b-%Y, and %d-%B-%Y\n",
      "Problematic dates:\n",
      "0        09-Jan-202\n",
      "1        05-Jan-202\n",
      "2        30-Dec-202\n",
      "3        29-Dec-202\n",
      "4        28-Dec-202\n",
      "           ...     \n",
      "6922     Circa-1862\n",
      "6926    Before-1906\n",
      "6927    Before-1903\n",
      "6929      1900-1905\n",
      "6931      1845-1853\n",
      "Name: date, Length: 5779, dtype: object\n"
     ]
    },
    {
     "name": "stderr",
     "output_type": "stream",
     "text": [
      "C:\\Users\\vonke\\AppData\\Local\\Temp\\ipykernel_8164\\199533571.py:16: UserWarning: Could not infer format, so each element will be parsed individually, falling back to `dateutil`. To ensure parsing is consistent and as-expected, please specify a format.\n",
      "  problematic_dates = shark_df.loc[pd.to_datetime(shark_df[\"date\"], errors='coerce').isnull(), \"date\"]\n"
     ]
    }
   ],
   "source": [
    "format_1 = '%d-%m-%y'\n",
    "format_2 = '%d-%b-%Y'\n",
    "format_3 = '%d-%B-%Y'\n",
    "\n",
    "try:\n",
    "    shark_df[\"date\"] = pd.to_datetime(shark_df[\"date\"], format=format_1)\n",
    "except ValueError:\n",
    "    try:\n",
    "        shark_df[\"date\"] = pd.to_datetime(shark_df[\"date\"], format=format_2)\n",
    "    except ValueError:\n",
    "        try:\n",
    "            shark_df[\"date\"] = pd.to_datetime(shark_df[\"date\"], format=format_3)\n",
    "        except ValueError:\n",
    "            print(f\"Unable to parse dates with formats {format_1}, {format_2}, and {format_3}\")\n",
    "            print(\"Problematic dates:\")\n",
    "            problematic_dates = shark_df.loc[pd.to_datetime(shark_df[\"date\"], errors='coerce').isnull(), \"date\"]\n",
    "            print(problematic_dates)\n",
    "            shark_df[\"date\"] = ''  # Set an empty string if the formats are not successfully applied\n"
   ]
  },
  {
   "cell_type": "code",
   "execution_count": 672,
   "id": "0d20fa01-8200-43f2-a5f8-e94ba11fbd46",
   "metadata": {
    "tags": []
   },
   "outputs": [
    {
     "data": {
      "text/plain": [
       "0        \n",
       "1        \n",
       "2        \n",
       "3        \n",
       "4        \n",
       "       ..\n",
       "6922     \n",
       "6926     \n",
       "6927     \n",
       "6929     \n",
       "6931     \n",
       "Name: date, Length: 6132, dtype: object"
      ]
     },
     "execution_count": 672,
     "metadata": {},
     "output_type": "execute_result"
    }
   ],
   "source": [
    "shark_df[\"date\"]"
   ]
  },
  {
   "cell_type": "code",
   "execution_count": 673,
   "id": "8c51dc30-e3f6-4de6-b604-e0faac07ca53",
   "metadata": {
    "tags": []
   },
   "outputs": [
    {
     "data": {
      "text/plain": [
       "0"
      ]
     },
     "execution_count": 673,
     "metadata": {},
     "output_type": "execute_result"
    }
   ],
   "source": [
    "shark_df['date'].isna().sum()"
   ]
  },
  {
   "cell_type": "code",
   "execution_count": 674,
   "id": "3fd25afa-5eb8-43c7-a461-84299559c48c",
   "metadata": {
    "tags": []
   },
   "outputs": [
    {
     "ename": "KeyError",
     "evalue": "\"None of [Index(['', '', '', '', '', '', '', '', '', '',\\n       ...\\n       '', '', '', '', '', '', '', '', '', ''],\\n      dtype='object', length=6132)] are in the [columns]\"",
     "output_type": "error",
     "traceback": [
      "\u001b[1;31m---------------------------------------------------------------------------\u001b[0m",
      "\u001b[1;31mKeyError\u001b[0m                                  Traceback (most recent call last)",
      "Cell \u001b[1;32mIn[674], line 3\u001b[0m\n\u001b[0;32m      1\u001b[0m \u001b[38;5;66;03m# Filter DataFrame  with less than 4 chracters\u001b[39;00m\n\u001b[0;32m      2\u001b[0m condition \u001b[38;5;241m=\u001b[39m shark_df[\u001b[38;5;124m'\u001b[39m\u001b[38;5;124mdate\u001b[39m\u001b[38;5;124m'\u001b[39m]\n\u001b[1;32m----> 3\u001b[0m filtered_df \u001b[38;5;241m=\u001b[39m shark_df[condition]\n\u001b[0;32m      4\u001b[0m filtered_df\n",
      "File \u001b[1;32m~\\anaconda3\\Lib\\site-packages\\pandas\\core\\frame.py:3767\u001b[0m, in \u001b[0;36mDataFrame.__getitem__\u001b[1;34m(self, key)\u001b[0m\n\u001b[0;32m   3765\u001b[0m     \u001b[38;5;28;01mif\u001b[39;00m is_iterator(key):\n\u001b[0;32m   3766\u001b[0m         key \u001b[38;5;241m=\u001b[39m \u001b[38;5;28mlist\u001b[39m(key)\n\u001b[1;32m-> 3767\u001b[0m     indexer \u001b[38;5;241m=\u001b[39m \u001b[38;5;28mself\u001b[39m\u001b[38;5;241m.\u001b[39mcolumns\u001b[38;5;241m.\u001b[39m_get_indexer_strict(key, \u001b[38;5;124m\"\u001b[39m\u001b[38;5;124mcolumns\u001b[39m\u001b[38;5;124m\"\u001b[39m)[\u001b[38;5;241m1\u001b[39m]\n\u001b[0;32m   3769\u001b[0m \u001b[38;5;66;03m# take() does not accept boolean indexers\u001b[39;00m\n\u001b[0;32m   3770\u001b[0m \u001b[38;5;28;01mif\u001b[39;00m \u001b[38;5;28mgetattr\u001b[39m(indexer, \u001b[38;5;124m\"\u001b[39m\u001b[38;5;124mdtype\u001b[39m\u001b[38;5;124m\"\u001b[39m, \u001b[38;5;28;01mNone\u001b[39;00m) \u001b[38;5;241m==\u001b[39m \u001b[38;5;28mbool\u001b[39m:\n",
      "File \u001b[1;32m~\\anaconda3\\Lib\\site-packages\\pandas\\core\\indexes\\base.py:5877\u001b[0m, in \u001b[0;36mIndex._get_indexer_strict\u001b[1;34m(self, key, axis_name)\u001b[0m\n\u001b[0;32m   5874\u001b[0m \u001b[38;5;28;01melse\u001b[39;00m:\n\u001b[0;32m   5875\u001b[0m     keyarr, indexer, new_indexer \u001b[38;5;241m=\u001b[39m \u001b[38;5;28mself\u001b[39m\u001b[38;5;241m.\u001b[39m_reindex_non_unique(keyarr)\n\u001b[1;32m-> 5877\u001b[0m \u001b[38;5;28mself\u001b[39m\u001b[38;5;241m.\u001b[39m_raise_if_missing(keyarr, indexer, axis_name)\n\u001b[0;32m   5879\u001b[0m keyarr \u001b[38;5;241m=\u001b[39m \u001b[38;5;28mself\u001b[39m\u001b[38;5;241m.\u001b[39mtake(indexer)\n\u001b[0;32m   5880\u001b[0m \u001b[38;5;28;01mif\u001b[39;00m \u001b[38;5;28misinstance\u001b[39m(key, Index):\n\u001b[0;32m   5881\u001b[0m     \u001b[38;5;66;03m# GH 42790 - Preserve name from an Index\u001b[39;00m\n",
      "File \u001b[1;32m~\\anaconda3\\Lib\\site-packages\\pandas\\core\\indexes\\base.py:5938\u001b[0m, in \u001b[0;36mIndex._raise_if_missing\u001b[1;34m(self, key, indexer, axis_name)\u001b[0m\n\u001b[0;32m   5936\u001b[0m     \u001b[38;5;28;01mif\u001b[39;00m use_interval_msg:\n\u001b[0;32m   5937\u001b[0m         key \u001b[38;5;241m=\u001b[39m \u001b[38;5;28mlist\u001b[39m(key)\n\u001b[1;32m-> 5938\u001b[0m     \u001b[38;5;28;01mraise\u001b[39;00m \u001b[38;5;167;01mKeyError\u001b[39;00m(\u001b[38;5;124mf\u001b[39m\u001b[38;5;124m\"\u001b[39m\u001b[38;5;124mNone of [\u001b[39m\u001b[38;5;132;01m{\u001b[39;00mkey\u001b[38;5;132;01m}\u001b[39;00m\u001b[38;5;124m] are in the [\u001b[39m\u001b[38;5;132;01m{\u001b[39;00maxis_name\u001b[38;5;132;01m}\u001b[39;00m\u001b[38;5;124m]\u001b[39m\u001b[38;5;124m\"\u001b[39m)\n\u001b[0;32m   5940\u001b[0m not_found \u001b[38;5;241m=\u001b[39m \u001b[38;5;28mlist\u001b[39m(ensure_index(key)[missing_mask\u001b[38;5;241m.\u001b[39mnonzero()[\u001b[38;5;241m0\u001b[39m]]\u001b[38;5;241m.\u001b[39munique())\n\u001b[0;32m   5941\u001b[0m \u001b[38;5;28;01mraise\u001b[39;00m \u001b[38;5;167;01mKeyError\u001b[39;00m(\u001b[38;5;124mf\u001b[39m\u001b[38;5;124m\"\u001b[39m\u001b[38;5;132;01m{\u001b[39;00mnot_found\u001b[38;5;132;01m}\u001b[39;00m\u001b[38;5;124m not in index\u001b[39m\u001b[38;5;124m\"\u001b[39m)\n",
      "\u001b[1;31mKeyError\u001b[0m: \"None of [Index(['', '', '', '', '', '', '', '', '', '',\\n       ...\\n       '', '', '', '', '', '', '', '', '', ''],\\n      dtype='object', length=6132)] are in the [columns]\""
     ]
    }
   ],
   "source": [
    "# Filter DataFrame  with less than 4 chracters\n",
    "condition = shark_df['date']\n",
    "filtered_df = shark_df[condition]\n",
    "filtered_df"
   ]
  },
  {
   "cell_type": "code",
   "execution_count": null,
   "id": "dc54b67c-3ddc-4ee9-8cc1-676444a4a90e",
   "metadata": {},
   "outputs": [],
   "source": []
  },
  {
   "cell_type": "code",
   "execution_count": null,
   "id": "832eedf1-6307-4d00-8df4-c7dbe4f69226",
   "metadata": {},
   "outputs": [],
   "source": []
  },
  {
   "cell_type": "code",
   "execution_count": null,
   "id": "1e2dd851-d238-435a-87e8-74928eabeec3",
   "metadata": {},
   "outputs": [],
   "source": []
  }
 ],
 "metadata": {
  "kernelspec": {
   "display_name": "Python 3 (ipykernel)",
   "language": "python",
   "name": "python3"
  },
  "language_info": {
   "codemirror_mode": {
    "name": "ipython",
    "version": 3
   },
   "file_extension": ".py",
   "mimetype": "text/x-python",
   "name": "python",
   "nbconvert_exporter": "python",
   "pygments_lexer": "ipython3",
   "version": "3.11.5"
  }
 },
 "nbformat": 4,
 "nbformat_minor": 5
}
