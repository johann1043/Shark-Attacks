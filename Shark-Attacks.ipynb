{
 "cells": [
  {
   "cell_type": "code",
   "execution_count": 1852,
   "id": "e4098841-231e-4e7f-baa5-9dc7f3dd1e2b",
   "metadata": {
    "tags": []
   },
   "outputs": [
    {
     "name": "stdout",
     "output_type": "stream",
     "text": [
      "Requirement already satisfied: xlrd in c:\\users\\vonke\\anaconda3\\lib\\site-packages (2.0.1)\n",
      "Note: you may need to restart the kernel to use updated packages.\n"
     ]
    }
   ],
   "source": [
    "pip install xlrd"
   ]
  },
  {
   "cell_type": "code",
   "execution_count": 1853,
   "id": "21ea6778-86c0-4e67-8d66-27de14ff723d",
   "metadata": {
    "tags": []
   },
   "outputs": [],
   "source": [
    "import pandas as pd\n",
    "\n",
    "url = 'https://www.sharkattackfile.net/spreadsheets/GSAF5.xls'\n",
    "shark_df = pd.read_excel(url)"
   ]
  },
  {
   "cell_type": "code",
   "execution_count": 1854,
   "id": "f4511291-7b48-42d1-970a-24926a4b9430",
   "metadata": {
    "tags": []
   },
   "outputs": [],
   "source": [
    "shark_df = shark_df.drop(['pdf', 'href formula','href','Case Number','Case Number.1','original order','Unnamed: 21','Unnamed: 22','Unnamed: 11','Source'], axis=1)"
   ]
  },
  {
   "cell_type": "code",
   "execution_count": 1855,
   "id": "bf5fa6b3-052c-42a4-9130-2d606378ba7d",
   "metadata": {
    "tags": []
   },
   "outputs": [],
   "source": [
    "shark_df = shark_df.dropna(how='all')"
   ]
  },
  {
   "cell_type": "code",
   "execution_count": 1856,
   "id": "d964cfb2-fc3b-4948-82d9-9e85be45110f",
   "metadata": {},
   "outputs": [],
   "source": [
    "shark_df = shark_df.dropna(subset=['Country', 'State', 'Location'])"
   ]
  },
  {
   "cell_type": "code",
   "execution_count": 1857,
   "id": "f86a627f-2776-4b08-be34-d232dd5537d8",
   "metadata": {
    "tags": []
   },
   "outputs": [],
   "source": [
    "shark_df.columns = shark_df.columns.str.lower()"
   ]
  },
  {
   "cell_type": "code",
   "execution_count": 1858,
   "id": "29bef8e8-b869-4bfb-b6c6-da550ee151a4",
   "metadata": {
    "tags": []
   },
   "outputs": [
    {
     "data": {
      "text/plain": [
       "Index(['date', 'year', 'type', 'country', 'state', 'location', 'activity',\n",
       "       'name', 'sex', 'age', 'injury', 'time', 'species '],\n",
       "      dtype='object')"
      ]
     },
     "execution_count": 1858,
     "metadata": {},
     "output_type": "execute_result"
    }
   ],
   "source": [
    "shark_df.columns"
   ]
  },
  {
   "cell_type": "code",
   "execution_count": 1859,
   "id": "a02badfe-a0ef-4b02-a507-40693081d4eb",
   "metadata": {
    "tags": []
   },
   "outputs": [
    {
     "data": {
      "text/plain": [
       "array(['Hawaii', 'Florida', 'California', 'South Carolina',\n",
       "       'North Carolina', 'New York', 'New Jersey', 'Samoa', 'Louisiana',\n",
       "       'Mississippi', 'Noirth Carolina', 'Georgia', 'Alabama', 'Texas',\n",
       "       'Maryland', 'Maui', 'Oregon', 'Franklin County, Florida',\n",
       "       'Virgin Islands', 'Maine', 'Bahamas', 'Delaware', 'Guam',\n",
       "       'Cayman Islands', 'Rhode Island', 'Massachusetts', 'Washington',\n",
       "       'Puerto Rico', 'Virginia', 'US Virgin Islands', 'Kentucky',\n",
       "       'New Mexico', 'South Carolina ', 'Alaska', 'Missouri',\n",
       "       'North Carolina ', 'Florida ', 'Connecticut', 'Pennsylvania',\n",
       "       'Illinois', 'Wake Island', ' North Carolina', ' New Jersey',\n",
       "       'New York ', 'CUBA'], dtype=object)"
      ]
     },
     "execution_count": 1859,
     "metadata": {},
     "output_type": "execute_result"
    }
   ],
   "source": [
    "usa_states = shark_df.loc[shark_df['country'] == 'USA', 'state']\n",
    "usa_states_unique = usa_states.unique()\n",
    "usa_states_unique"
   ]
  },
  {
   "cell_type": "code",
   "execution_count": 1860,
   "id": "bdb32d64-db47-4ed8-9ae1-e4eb97c9c218",
   "metadata": {
    "tags": []
   },
   "outputs": [
    {
     "data": {
      "text/plain": [
       "array(['hawaii', 'florida', 'california', 'south carolina',\n",
       "       'north carolina', 'new york', 'new jersey', 'samoa', 'louisiana',\n",
       "       'mississippi', 'georgia', 'alabama', 'texas', 'maryland', 'oregon',\n",
       "       'virgin islands', 'maine', 'bahamas', 'delaware', 'guam',\n",
       "       'cayman islands', 'rhode island', 'massachusetts', 'washington',\n",
       "       'puerto rico', 'virginia', 'us virgin islands', 'kentucky',\n",
       "       'new mexico', 'alaska', 'missouri', 'connecticut', 'pennsylvania',\n",
       "       'illinois', 'wake island'], dtype=object)"
      ]
     },
     "execution_count": 1860,
     "metadata": {},
     "output_type": "execute_result"
    }
   ],
   "source": [
    "#Remove cuba\n",
    "\n",
    "row_index_cuba = shark_df.index[shark_df['state'].str.lower() == 'cuba'].tolist()\n",
    "\n",
    "# Update 'country' and 'state' in the identified row\n",
    "shark_df.loc[row_index_cuba, 'country'] = 'CUBA'\n",
    "shark_df.loc[row_index_cuba, 'state'] = ''\n",
    "\n",
    "# Standardize the state names in USA\n",
    "shark_df['state'] = shark_df['state'].str.strip().str.lower().replace({\n",
    "    'noirth carolina': 'north carolina',\n",
    "    'maui': 'hawaii',\n",
    "    'franklin county, florida': 'florida',\n",
    "    'cuba': ''\n",
    "})\n",
    "\n",
    "# Check the unique values in 'state' for USA after replacement\n",
    "usa_states = shark_df.loc[shark_df['country'] == 'USA', 'state']\n",
    "usa_states_unique_after = usa_states.unique()\n",
    "usa_states_unique_after"
   ]
  },
  {
   "cell_type": "code",
   "execution_count": 1861,
   "id": "4b5205f3-ddb7-4d0e-bde9-432a6b1e2255",
   "metadata": {
    "tags": []
   },
   "outputs": [
    {
     "data": {
      "text/plain": [
       "array(['hawaii', 'florida', 'california', 'south carolina',\n",
       "       'north carolina', 'new york', 'new jersey', 'samoa', 'louisiana',\n",
       "       'mississippi', 'georgia', 'alabama', 'texas', 'maryland', 'oregon',\n",
       "       'virgin islands', 'maine', 'bahamas', 'delaware', 'guam',\n",
       "       'cayman islands', 'rhode island', 'massachusetts', 'washington',\n",
       "       'puerto rico', 'virginia', 'us virgin islands', 'kentucky',\n",
       "       'new mexico', 'alaska', 'missouri', 'connecticut', 'pennsylvania',\n",
       "       'illinois', 'wake island'], dtype=object)"
      ]
     },
     "execution_count": 1861,
     "metadata": {},
     "output_type": "execute_result"
    }
   ],
   "source": [
    "#Remove cuba\n",
    "\n",
    "row_index_cuba = shark_df.index[shark_df['state'].str.lower() == 'cuba'].tolist()\n",
    "\n",
    "# Update 'country' and 'state' in the identified row\n",
    "shark_df.loc[row_index_cuba, 'country'] = 'CUBA'\n",
    "shark_df.loc[row_index_cuba, 'state'] = ''\n",
    "\n",
    "# Standardize the state names in USA\n",
    "shark_df['state'] = shark_df['state'].str.strip().str.lower().replace({\n",
    "    'noirth carolina': 'north carolina',\n",
    "    'maui': 'hawaii',\n",
    "    'franklin county, florida': 'florida',\n",
    "    'cuba': ''\n",
    "})\n",
    "\n",
    "# Check the unique values in 'state' for USA after replacement\n",
    "usa_states = shark_df.loc[shark_df['country'] == 'USA', 'state']\n",
    "usa_states_unique_after = usa_states.unique()\n",
    "usa_states_unique_after"
   ]
  },
  {
   "cell_type": "code",
   "execution_count": 1862,
   "id": "f8e80358-7d54-40bc-94c7-dad464550836",
   "metadata": {
    "tags": []
   },
   "outputs": [],
   "source": [
    "# Nimrod: unified categories for Activity & Type\n",
    "\n",
    "# grouping activity into upper-group (a less granual data)\n",
    "import re\n",
    "\n",
    "def clean_activity(activity):\n",
    "    activity = str(activity).strip()\n",
    "\n",
    "    if re.search(r'surf|cano|kayak|board|wind|paddle|padd|wing|kite|ski|sup', activity, flags=re.IGNORECASE):\n",
    "        return 'water_sport'\n",
    "    elif re.search(r'swim|play|snork|scuba|div|jump|squat|bath|Underwater|diving|float', activity, flags=re.IGNORECASE):\n",
    "        return 'swimming'\n",
    "    elif re.search(r'fish|scallop|lobster|wading|wade|prawn|spear', activity, flags=re.IGNORECASE):\n",
    "        return 'fishing'\n",
    "    elif re.search(r'torpedoed|sunk|troop|battle|disaster|squad|sank|fire|soldier|crash|plane|explod|capsized|yacht|fell|sinking|broke|wreck|USS'\n",
    "                   , activity, flags=re.IGNORECASE):\n",
    "        return 'disaster_war_accident'\n",
    "    elif re.search(r'shark', activity, flags=re.IGNORECASE):\n",
    "        return 'shark_related'\n",
    "    else:\n",
    "        return 'others'\n",
    "\n",
    "# grouping type into upper-group (a less granual data)\n",
    "def clean_type(type_):\n",
    "\n",
    "    if pd.isna(type_):\n",
    "        return 'Invalid'\n",
    "\n",
    "\n",
    "    type_ = str(type_).strip()\n",
    "\n",
    "    if re.search(r'Watercraft|disaster', type_, flags=re.IGNORECASE):\n",
    "        return 'Unprovoked'\n",
    "    elif re.search(r'Questionable', type_, flags=re.IGNORECASE):\n",
    "        return 'Provoked'\n",
    "    elif re.search(r'Unverified|Unconfirmed|\\?|Boat|Under', type_, flags=re.IGNORECASE):\n",
    "        return 'Invalid'\n",
    "    else:\n",
    "        return type_\n",
    "\n"
   ]
  },
  {
   "cell_type": "code",
   "execution_count": 1863,
   "id": "f3f2b4c8-c106-4b3a-aa0e-3653b0f8df67",
   "metadata": {
    "tags": []
   },
   "outputs": [],
   "source": [
    "## performing cleaning using functions from above cell to create activity_grouped and upd\n",
    "shark_df['activity_grouped'] = shark_df['activity'].apply(clean_activity)\n",
    "shark_df['type'] = shark_df['type'].apply(clean_type)"
   ]
  },
  {
   "cell_type": "code",
   "execution_count": 1864,
   "id": "c18eddd1-5106-492b-b8e7-5d73a6eaddac",
   "metadata": {
    "tags": []
   },
   "outputs": [],
   "source": [
    "# clean 'sex' column to M, F and UNDEFINED\n",
    "shark_df.sex = shark_df.sex.fillna('Undefined')\n",
    "shark_df.sex = shark_df.sex.apply(lambda sex:sex.strip().upper() if isinstance(sex,str) else sex)\n",
    "shark_df.sex = shark_df.sex.replace(['LLI'],['UNDEFINED'])\n",
    "\n",
    "# clean 'name' column to fill nan as 'Unknown'\n",
    "shark_df.name = shark_df.name.fillna('Unknown')"
   ]
  },
  {
   "cell_type": "code",
   "execution_count": 1865,
   "id": "7848e232-0d82-41e4-bf4a-7e739c813e6e",
   "metadata": {
    "tags": []
   },
   "outputs": [
    {
     "data": {
      "text/html": [
       "<div>\n",
       "<style scoped>\n",
       "    .dataframe tbody tr th:only-of-type {\n",
       "        vertical-align: middle;\n",
       "    }\n",
       "\n",
       "    .dataframe tbody tr th {\n",
       "        vertical-align: top;\n",
       "    }\n",
       "\n",
       "    .dataframe thead th {\n",
       "        text-align: right;\n",
       "    }\n",
       "</style>\n",
       "<table border=\"1\" class=\"dataframe\">\n",
       "  <thead>\n",
       "    <tr style=\"text-align: right;\">\n",
       "      <th></th>\n",
       "      <th>date</th>\n",
       "      <th>year</th>\n",
       "      <th>type</th>\n",
       "      <th>country</th>\n",
       "      <th>state</th>\n",
       "      <th>location</th>\n",
       "      <th>activity</th>\n",
       "      <th>name</th>\n",
       "      <th>sex</th>\n",
       "      <th>age</th>\n",
       "      <th>injury</th>\n",
       "      <th>time</th>\n",
       "      <th>species</th>\n",
       "      <th>activity_grouped</th>\n",
       "    </tr>\n",
       "  </thead>\n",
       "  <tbody>\n",
       "    <tr>\n",
       "      <th>2</th>\n",
       "      <td>30 Dec-2023</td>\n",
       "      <td>2023.0</td>\n",
       "      <td>Unprovoked</td>\n",
       "      <td>USA</td>\n",
       "      <td>hawaii</td>\n",
       "      <td>Baby Beach, Maui</td>\n",
       "      <td>Surfing</td>\n",
       "      <td>Jason Carter</td>\n",
       "      <td>M</td>\n",
       "      <td>39</td>\n",
       "      <td>FATAL</td>\n",
       "      <td>11h12</td>\n",
       "      <td>NaN</td>\n",
       "      <td>water_sport</td>\n",
       "    </tr>\n",
       "    <tr>\n",
       "      <th>16</th>\n",
       "      <td>05 Nov-2023</td>\n",
       "      <td>2023.0</td>\n",
       "      <td>Unprovoked</td>\n",
       "      <td>USA</td>\n",
       "      <td>florida</td>\n",
       "      <td>Juno Beach, Palm Beach County</td>\n",
       "      <td>Swimming</td>\n",
       "      <td>Steven Reinhardt</td>\n",
       "      <td>M</td>\n",
       "      <td>66</td>\n",
       "      <td>Lacerations to right forearm</td>\n",
       "      <td>10h30</td>\n",
       "      <td>NaN</td>\n",
       "      <td>swimming</td>\n",
       "    </tr>\n",
       "    <tr>\n",
       "      <th>21</th>\n",
       "      <td>25 Oct 2023</td>\n",
       "      <td>2023.0</td>\n",
       "      <td>Unprovoked</td>\n",
       "      <td>USA</td>\n",
       "      <td>hawaii</td>\n",
       "      <td>Pua’ena Point,  Haleiwa, Oahu</td>\n",
       "      <td>Surfing</td>\n",
       "      <td>male</td>\n",
       "      <td>M</td>\n",
       "      <td>30</td>\n",
       "      <td>Bite to right thigh</td>\n",
       "      <td>15h05</td>\n",
       "      <td>8' tiger shark</td>\n",
       "      <td>water_sport</td>\n",
       "    </tr>\n",
       "    <tr>\n",
       "      <th>25</th>\n",
       "      <td>15 Oct 2023</td>\n",
       "      <td>2023.0</td>\n",
       "      <td>Unprovoked</td>\n",
       "      <td>USA</td>\n",
       "      <td>hawaii</td>\n",
       "      <td>Hanalei Bay, Kauai</td>\n",
       "      <td>Surfing</td>\n",
       "      <td>Kevin Kanehe</td>\n",
       "      <td>M</td>\n",
       "      <td>50</td>\n",
       "      <td>Left leg and hand injured</td>\n",
       "      <td>16h00</td>\n",
       "      <td>10' tiger shark</td>\n",
       "      <td>water_sport</td>\n",
       "    </tr>\n",
       "    <tr>\n",
       "      <th>26</th>\n",
       "      <td>13 Oct-2023</td>\n",
       "      <td>2023.0</td>\n",
       "      <td>Unprovoked</td>\n",
       "      <td>USA</td>\n",
       "      <td>california</td>\n",
       "      <td>Linda Mar, Pacific State Beach, San Mateo County</td>\n",
       "      <td>Surfing</td>\n",
       "      <td>male</td>\n",
       "      <td>M</td>\n",
       "      <td>52</td>\n",
       "      <td>Minor linjury to left lower leg</td>\n",
       "      <td>15h45</td>\n",
       "      <td>NaN</td>\n",
       "      <td>water_sport</td>\n",
       "    </tr>\n",
       "    <tr>\n",
       "      <th>...</th>\n",
       "      <td>...</td>\n",
       "      <td>...</td>\n",
       "      <td>...</td>\n",
       "      <td>...</td>\n",
       "      <td>...</td>\n",
       "      <td>...</td>\n",
       "      <td>...</td>\n",
       "      <td>...</td>\n",
       "      <td>...</td>\n",
       "      <td>...</td>\n",
       "      <td>...</td>\n",
       "      <td>...</td>\n",
       "      <td>...</td>\n",
       "      <td>...</td>\n",
       "    </tr>\n",
       "    <tr>\n",
       "      <th>6879</th>\n",
       "      <td>Before 1958</td>\n",
       "      <td>0.0</td>\n",
       "      <td>Unprovoked</td>\n",
       "      <td>USA</td>\n",
       "      <td>florida</td>\n",
       "      <td>Palm Beach, Palm Beach County</td>\n",
       "      <td>Standing</td>\n",
       "      <td>Horton Chase</td>\n",
       "      <td>M</td>\n",
       "      <td>NaN</td>\n",
       "      <td>Abrasions &amp; bruises hip to ankle</td>\n",
       "      <td>NaN</td>\n",
       "      <td>NaN</td>\n",
       "      <td>others</td>\n",
       "    </tr>\n",
       "    <tr>\n",
       "      <th>6913</th>\n",
       "      <td>Before 1921</td>\n",
       "      <td>0.0</td>\n",
       "      <td>Unprovoked</td>\n",
       "      <td>USA</td>\n",
       "      <td>florida</td>\n",
       "      <td>Gadsden Point, Tampa Bay</td>\n",
       "      <td>Fishing</td>\n",
       "      <td>James Kelley</td>\n",
       "      <td>M</td>\n",
       "      <td>NaN</td>\n",
       "      <td>2-inch lacerations</td>\n",
       "      <td>NaN</td>\n",
       "      <td>NaN</td>\n",
       "      <td>fishing</td>\n",
       "    </tr>\n",
       "    <tr>\n",
       "      <th>6918</th>\n",
       "      <td>Before 17-Jul-1916</td>\n",
       "      <td>0.0</td>\n",
       "      <td>Unprovoked</td>\n",
       "      <td>USA</td>\n",
       "      <td>north carolina</td>\n",
       "      <td>Somewhere between Hatteras and Beaufort</td>\n",
       "      <td>Swimming</td>\n",
       "      <td>\"youthful male\"</td>\n",
       "      <td>M</td>\n",
       "      <td>NaN</td>\n",
       "      <td>\"Lost leg\"</td>\n",
       "      <td>NaN</td>\n",
       "      <td>NaN</td>\n",
       "      <td>swimming</td>\n",
       "    </tr>\n",
       "    <tr>\n",
       "      <th>6922</th>\n",
       "      <td>Circa 1862</td>\n",
       "      <td>0.0</td>\n",
       "      <td>Unprovoked</td>\n",
       "      <td>USA</td>\n",
       "      <td>hawaii</td>\n",
       "      <td>Puna</td>\n",
       "      <td>NaN</td>\n",
       "      <td>A \"chiefess\"</td>\n",
       "      <td>F</td>\n",
       "      <td>NaN</td>\n",
       "      <td>Ankle bitten</td>\n",
       "      <td>NaN</td>\n",
       "      <td>NaN</td>\n",
       "      <td>others</td>\n",
       "    </tr>\n",
       "    <tr>\n",
       "      <th>6929</th>\n",
       "      <td>1900-1905</td>\n",
       "      <td>0.0</td>\n",
       "      <td>Unprovoked</td>\n",
       "      <td>USA</td>\n",
       "      <td>north carolina</td>\n",
       "      <td>Ocracoke Inlet</td>\n",
       "      <td>Swimming</td>\n",
       "      <td>Coast Guard personnel</td>\n",
       "      <td>M</td>\n",
       "      <td>NaN</td>\n",
       "      <td>FATAL</td>\n",
       "      <td>NaN</td>\n",
       "      <td>NaN</td>\n",
       "      <td>swimming</td>\n",
       "    </tr>\n",
       "  </tbody>\n",
       "</table>\n",
       "<p>2476 rows × 14 columns</p>\n",
       "</div>"
      ],
      "text/plain": [
       "                    date    year        type country           state  \\\n",
       "2            30 Dec-2023  2023.0  Unprovoked     USA          hawaii   \n",
       "16           05 Nov-2023  2023.0  Unprovoked     USA         florida   \n",
       "21           25 Oct 2023  2023.0  Unprovoked     USA          hawaii   \n",
       "25           15 Oct 2023  2023.0  Unprovoked     USA          hawaii   \n",
       "26           13 Oct-2023  2023.0  Unprovoked     USA      california   \n",
       "...                  ...     ...         ...     ...             ...   \n",
       "6879         Before 1958     0.0  Unprovoked     USA         florida   \n",
       "6913         Before 1921     0.0  Unprovoked     USA         florida   \n",
       "6918  Before 17-Jul-1916     0.0  Unprovoked     USA  north carolina   \n",
       "6922          Circa 1862     0.0  Unprovoked     USA          hawaii   \n",
       "6929           1900-1905     0.0  Unprovoked     USA  north carolina   \n",
       "\n",
       "                                              location  activity  \\\n",
       "2                                     Baby Beach, Maui   Surfing   \n",
       "16                       Juno Beach, Palm Beach County  Swimming   \n",
       "21                       Pua’ena Point,  Haleiwa, Oahu   Surfing   \n",
       "25                                  Hanalei Bay, Kauai   Surfing   \n",
       "26    Linda Mar, Pacific State Beach, San Mateo County   Surfing   \n",
       "...                                                ...       ...   \n",
       "6879                     Palm Beach, Palm Beach County  Standing   \n",
       "6913                          Gadsden Point, Tampa Bay   Fishing   \n",
       "6918           Somewhere between Hatteras and Beaufort  Swimming   \n",
       "6922                                              Puna       NaN   \n",
       "6929                                    Ocracoke Inlet  Swimming   \n",
       "\n",
       "                       name sex  age                            injury   time  \\\n",
       "2              Jason Carter   M   39                             FATAL  11h12   \n",
       "16         Steven Reinhardt   M   66      Lacerations to right forearm  10h30   \n",
       "21                     male   M   30               Bite to right thigh  15h05   \n",
       "25             Kevin Kanehe   M   50         Left leg and hand injured  16h00   \n",
       "26                     male   M   52  Minor linjury to left lower leg   15h45   \n",
       "...                     ...  ..  ...                               ...    ...   \n",
       "6879           Horton Chase   M  NaN  Abrasions & bruises hip to ankle    NaN   \n",
       "6913           James Kelley   M  NaN                2-inch lacerations    NaN   \n",
       "6918        \"youthful male\"   M  NaN                        \"Lost leg\"    NaN   \n",
       "6922           A \"chiefess\"   F  NaN                      Ankle bitten    NaN   \n",
       "6929  Coast Guard personnel   M  NaN                             FATAL    NaN   \n",
       "\n",
       "             species  activity_grouped  \n",
       "2                 NaN      water_sport  \n",
       "16                NaN         swimming  \n",
       "21     8' tiger shark      water_sport  \n",
       "25    10' tiger shark      water_sport  \n",
       "26                NaN      water_sport  \n",
       "...               ...              ...  \n",
       "6879              NaN           others  \n",
       "6913              NaN          fishing  \n",
       "6918              NaN         swimming  \n",
       "6922              NaN           others  \n",
       "6929              NaN         swimming  \n",
       "\n",
       "[2476 rows x 14 columns]"
      ]
     },
     "execution_count": 1865,
     "metadata": {},
     "output_type": "execute_result"
    }
   ],
   "source": [
    "shark_df_us = shark_df[shark_df['country']=='USA']\n",
    "shark_df_us"
   ]
  },
  {
   "cell_type": "code",
   "execution_count": 1866,
   "id": "8254c6ac-cec0-430a-9948-5be702e00996",
   "metadata": {
    "tags": []
   },
   "outputs": [],
   "source": [
    "shark_df_us.to_csv('https://github.com/goldenrod-asters/Week-2-Quest/blob/main/shark_df_us.csv', index=False)"
   ]
  },
  {
   "cell_type": "code",
   "execution_count": 1867,
   "id": "6a8a01e7-9842-4403-9e56-3c0bf13a1d5d",
   "metadata": {
    "tags": []
   },
   "outputs": [
    {
     "data": {
      "text/html": [
       "<div>\n",
       "<style scoped>\n",
       "    .dataframe tbody tr th:only-of-type {\n",
       "        vertical-align: middle;\n",
       "    }\n",
       "\n",
       "    .dataframe tbody tr th {\n",
       "        vertical-align: top;\n",
       "    }\n",
       "\n",
       "    .dataframe thead th {\n",
       "        text-align: right;\n",
       "    }\n",
       "</style>\n",
       "<table border=\"1\" class=\"dataframe\">\n",
       "  <thead>\n",
       "    <tr style=\"text-align: right;\">\n",
       "      <th></th>\n",
       "      <th>date</th>\n",
       "      <th>year</th>\n",
       "      <th>type</th>\n",
       "      <th>country</th>\n",
       "      <th>state</th>\n",
       "      <th>location</th>\n",
       "      <th>activity</th>\n",
       "      <th>name</th>\n",
       "      <th>sex</th>\n",
       "      <th>age</th>\n",
       "      <th>injury</th>\n",
       "      <th>time</th>\n",
       "      <th>species</th>\n",
       "      <th>activity_grouped</th>\n",
       "    </tr>\n",
       "  </thead>\n",
       "  <tbody>\n",
       "    <tr>\n",
       "      <th>2</th>\n",
       "      <td>30 Dec-2023</td>\n",
       "      <td>2023.0</td>\n",
       "      <td>Unprovoked</td>\n",
       "      <td>USA</td>\n",
       "      <td>hawaii</td>\n",
       "      <td>Baby Beach, Maui</td>\n",
       "      <td>Surfing</td>\n",
       "      <td>Jason Carter</td>\n",
       "      <td>M</td>\n",
       "      <td>39</td>\n",
       "      <td>FATAL</td>\n",
       "      <td>11h12</td>\n",
       "      <td>NaN</td>\n",
       "      <td>water_sport</td>\n",
       "    </tr>\n",
       "    <tr>\n",
       "      <th>16</th>\n",
       "      <td>05 Nov-2023</td>\n",
       "      <td>2023.0</td>\n",
       "      <td>Unprovoked</td>\n",
       "      <td>USA</td>\n",
       "      <td>florida</td>\n",
       "      <td>Juno Beach, Palm Beach County</td>\n",
       "      <td>Swimming</td>\n",
       "      <td>Steven Reinhardt</td>\n",
       "      <td>M</td>\n",
       "      <td>66</td>\n",
       "      <td>Lacerations to right forearm</td>\n",
       "      <td>10h30</td>\n",
       "      <td>NaN</td>\n",
       "      <td>swimming</td>\n",
       "    </tr>\n",
       "    <tr>\n",
       "      <th>21</th>\n",
       "      <td>25 Oct 2023</td>\n",
       "      <td>2023.0</td>\n",
       "      <td>Unprovoked</td>\n",
       "      <td>USA</td>\n",
       "      <td>hawaii</td>\n",
       "      <td>Pua’ena Point,  Haleiwa, Oahu</td>\n",
       "      <td>Surfing</td>\n",
       "      <td>male</td>\n",
       "      <td>M</td>\n",
       "      <td>30</td>\n",
       "      <td>Bite to right thigh</td>\n",
       "      <td>15h05</td>\n",
       "      <td>8' tiger shark</td>\n",
       "      <td>water_sport</td>\n",
       "    </tr>\n",
       "    <tr>\n",
       "      <th>25</th>\n",
       "      <td>15 Oct 2023</td>\n",
       "      <td>2023.0</td>\n",
       "      <td>Unprovoked</td>\n",
       "      <td>USA</td>\n",
       "      <td>hawaii</td>\n",
       "      <td>Hanalei Bay, Kauai</td>\n",
       "      <td>Surfing</td>\n",
       "      <td>Kevin Kanehe</td>\n",
       "      <td>M</td>\n",
       "      <td>50</td>\n",
       "      <td>Left leg and hand injured</td>\n",
       "      <td>16h00</td>\n",
       "      <td>10' tiger shark</td>\n",
       "      <td>water_sport</td>\n",
       "    </tr>\n",
       "    <tr>\n",
       "      <th>26</th>\n",
       "      <td>13 Oct-2023</td>\n",
       "      <td>2023.0</td>\n",
       "      <td>Unprovoked</td>\n",
       "      <td>USA</td>\n",
       "      <td>california</td>\n",
       "      <td>Linda Mar, Pacific State Beach, San Mateo County</td>\n",
       "      <td>Surfing</td>\n",
       "      <td>male</td>\n",
       "      <td>M</td>\n",
       "      <td>52</td>\n",
       "      <td>Minor linjury to left lower leg</td>\n",
       "      <td>15h45</td>\n",
       "      <td>NaN</td>\n",
       "      <td>water_sport</td>\n",
       "    </tr>\n",
       "    <tr>\n",
       "      <th>...</th>\n",
       "      <td>...</td>\n",
       "      <td>...</td>\n",
       "      <td>...</td>\n",
       "      <td>...</td>\n",
       "      <td>...</td>\n",
       "      <td>...</td>\n",
       "      <td>...</td>\n",
       "      <td>...</td>\n",
       "      <td>...</td>\n",
       "      <td>...</td>\n",
       "      <td>...</td>\n",
       "      <td>...</td>\n",
       "      <td>...</td>\n",
       "      <td>...</td>\n",
       "    </tr>\n",
       "    <tr>\n",
       "      <th>6879</th>\n",
       "      <td>Before 1958</td>\n",
       "      <td>0.0</td>\n",
       "      <td>Unprovoked</td>\n",
       "      <td>USA</td>\n",
       "      <td>florida</td>\n",
       "      <td>Palm Beach, Palm Beach County</td>\n",
       "      <td>Standing</td>\n",
       "      <td>Horton Chase</td>\n",
       "      <td>M</td>\n",
       "      <td>NaN</td>\n",
       "      <td>Abrasions &amp; bruises hip to ankle</td>\n",
       "      <td>NaN</td>\n",
       "      <td>NaN</td>\n",
       "      <td>others</td>\n",
       "    </tr>\n",
       "    <tr>\n",
       "      <th>6913</th>\n",
       "      <td>Before 1921</td>\n",
       "      <td>0.0</td>\n",
       "      <td>Unprovoked</td>\n",
       "      <td>USA</td>\n",
       "      <td>florida</td>\n",
       "      <td>Gadsden Point, Tampa Bay</td>\n",
       "      <td>Fishing</td>\n",
       "      <td>James Kelley</td>\n",
       "      <td>M</td>\n",
       "      <td>NaN</td>\n",
       "      <td>2-inch lacerations</td>\n",
       "      <td>NaN</td>\n",
       "      <td>NaN</td>\n",
       "      <td>fishing</td>\n",
       "    </tr>\n",
       "    <tr>\n",
       "      <th>6918</th>\n",
       "      <td>Before 17-Jul-1916</td>\n",
       "      <td>0.0</td>\n",
       "      <td>Unprovoked</td>\n",
       "      <td>USA</td>\n",
       "      <td>north carolina</td>\n",
       "      <td>Somewhere between Hatteras and Beaufort</td>\n",
       "      <td>Swimming</td>\n",
       "      <td>\"youthful male\"</td>\n",
       "      <td>M</td>\n",
       "      <td>NaN</td>\n",
       "      <td>\"Lost leg\"</td>\n",
       "      <td>NaN</td>\n",
       "      <td>NaN</td>\n",
       "      <td>swimming</td>\n",
       "    </tr>\n",
       "    <tr>\n",
       "      <th>6922</th>\n",
       "      <td>Circa 1862</td>\n",
       "      <td>0.0</td>\n",
       "      <td>Unprovoked</td>\n",
       "      <td>USA</td>\n",
       "      <td>hawaii</td>\n",
       "      <td>Puna</td>\n",
       "      <td>NaN</td>\n",
       "      <td>A \"chiefess\"</td>\n",
       "      <td>F</td>\n",
       "      <td>NaN</td>\n",
       "      <td>Ankle bitten</td>\n",
       "      <td>NaN</td>\n",
       "      <td>NaN</td>\n",
       "      <td>others</td>\n",
       "    </tr>\n",
       "    <tr>\n",
       "      <th>6929</th>\n",
       "      <td>1900-1905</td>\n",
       "      <td>0.0</td>\n",
       "      <td>Unprovoked</td>\n",
       "      <td>USA</td>\n",
       "      <td>north carolina</td>\n",
       "      <td>Ocracoke Inlet</td>\n",
       "      <td>Swimming</td>\n",
       "      <td>Coast Guard personnel</td>\n",
       "      <td>M</td>\n",
       "      <td>NaN</td>\n",
       "      <td>FATAL</td>\n",
       "      <td>NaN</td>\n",
       "      <td>NaN</td>\n",
       "      <td>swimming</td>\n",
       "    </tr>\n",
       "  </tbody>\n",
       "</table>\n",
       "<p>2476 rows × 14 columns</p>\n",
       "</div>"
      ],
      "text/plain": [
       "                    date    year        type country           state  \\\n",
       "2            30 Dec-2023  2023.0  Unprovoked     USA          hawaii   \n",
       "16           05 Nov-2023  2023.0  Unprovoked     USA         florida   \n",
       "21           25 Oct 2023  2023.0  Unprovoked     USA          hawaii   \n",
       "25           15 Oct 2023  2023.0  Unprovoked     USA          hawaii   \n",
       "26           13 Oct-2023  2023.0  Unprovoked     USA      california   \n",
       "...                  ...     ...         ...     ...             ...   \n",
       "6879         Before 1958     0.0  Unprovoked     USA         florida   \n",
       "6913         Before 1921     0.0  Unprovoked     USA         florida   \n",
       "6918  Before 17-Jul-1916     0.0  Unprovoked     USA  north carolina   \n",
       "6922          Circa 1862     0.0  Unprovoked     USA          hawaii   \n",
       "6929           1900-1905     0.0  Unprovoked     USA  north carolina   \n",
       "\n",
       "                                              location  activity  \\\n",
       "2                                     Baby Beach, Maui   Surfing   \n",
       "16                       Juno Beach, Palm Beach County  Swimming   \n",
       "21                       Pua’ena Point,  Haleiwa, Oahu   Surfing   \n",
       "25                                  Hanalei Bay, Kauai   Surfing   \n",
       "26    Linda Mar, Pacific State Beach, San Mateo County   Surfing   \n",
       "...                                                ...       ...   \n",
       "6879                     Palm Beach, Palm Beach County  Standing   \n",
       "6913                          Gadsden Point, Tampa Bay   Fishing   \n",
       "6918           Somewhere between Hatteras and Beaufort  Swimming   \n",
       "6922                                              Puna       NaN   \n",
       "6929                                    Ocracoke Inlet  Swimming   \n",
       "\n",
       "                       name sex  age                            injury   time  \\\n",
       "2              Jason Carter   M   39                             FATAL  11h12   \n",
       "16         Steven Reinhardt   M   66      Lacerations to right forearm  10h30   \n",
       "21                     male   M   30               Bite to right thigh  15h05   \n",
       "25             Kevin Kanehe   M   50         Left leg and hand injured  16h00   \n",
       "26                     male   M   52  Minor linjury to left lower leg   15h45   \n",
       "...                     ...  ..  ...                               ...    ...   \n",
       "6879           Horton Chase   M  NaN  Abrasions & bruises hip to ankle    NaN   \n",
       "6913           James Kelley   M  NaN                2-inch lacerations    NaN   \n",
       "6918        \"youthful male\"   M  NaN                        \"Lost leg\"    NaN   \n",
       "6922           A \"chiefess\"   F  NaN                      Ankle bitten    NaN   \n",
       "6929  Coast Guard personnel   M  NaN                             FATAL    NaN   \n",
       "\n",
       "             species  activity_grouped  \n",
       "2                 NaN      water_sport  \n",
       "16                NaN         swimming  \n",
       "21     8' tiger shark      water_sport  \n",
       "25    10' tiger shark      water_sport  \n",
       "26                NaN      water_sport  \n",
       "...               ...              ...  \n",
       "6879              NaN           others  \n",
       "6913              NaN          fishing  \n",
       "6918              NaN         swimming  \n",
       "6922              NaN           others  \n",
       "6929              NaN         swimming  \n",
       "\n",
       "[2476 rows x 14 columns]"
      ]
     },
     "execution_count": 1867,
     "metadata": {},
     "output_type": "execute_result"
    }
   ],
   "source": [
    "shark_df_us"
   ]
  },
  {
   "cell_type": "markdown",
   "id": "2fb3e839-9d98-45ae-a5ff-1df4f737a204",
   "metadata": {
    "tags": []
   },
   "source": [
    "# 1. Clean cloumn Year"
   ]
  },
  {
   "cell_type": "code",
   "execution_count": 1868,
   "id": "16af6f02-9082-4f06-92dc-643ebb017fda",
   "metadata": {
    "tags": []
   },
   "outputs": [
    {
     "data": {
      "text/plain": [
       "0"
      ]
     },
     "execution_count": 1868,
     "metadata": {},
     "output_type": "execute_result"
    }
   ],
   "source": [
    "# Check how many empty cells are in column year\n",
    "shark_df_us['year'].isna().sum()"
   ]
  },
  {
   "cell_type": "code",
   "execution_count": 1869,
   "id": "b5f7cafd-67f2-48ed-bad5-96577ea6aeb8",
   "metadata": {
    "tags": []
   },
   "outputs": [
    {
     "name": "stderr",
     "output_type": "stream",
     "text": [
      "C:\\Users\\vonke\\AppData\\Local\\Temp\\ipykernel_15648\\2518628143.py:2: SettingWithCopyWarning: \n",
      "A value is trying to be set on a copy of a slice from a DataFrame\n",
      "\n",
      "See the caveats in the documentation: https://pandas.pydata.org/pandas-docs/stable/user_guide/indexing.html#returning-a-view-versus-a-copy\n",
      "  shark_df_us.year.fillna(shark_df_us.year.mode()[0], inplace=True)\n"
     ]
    }
   ],
   "source": [
    "# Only one empty cell in cloumn year, so we can replace with the Mode of column year\n",
    "shark_df_us.year.fillna(shark_df_us.year.mode()[0], inplace=True)"
   ]
  },
  {
   "cell_type": "code",
   "execution_count": 1870,
   "id": "42743977-143a-444d-aafe-cded11292617",
   "metadata": {
    "tags": []
   },
   "outputs": [
    {
     "data": {
      "text/plain": [
       "array([2023., 2022., 2021., 2020., 2019., 2018., 2017., 2016., 2015.,\n",
       "       2014., 2013., 2012., 2011., 2010., 2009., 2008., 2007., 2006.,\n",
       "       2005., 2004., 2003., 2002., 2001., 2000., 1999., 1998., 1997.,\n",
       "       1996., 1995., 1994., 1993., 1992., 1991., 1990., 1989., 1988.,\n",
       "       1987., 1986., 1985., 1984., 1983., 1982., 1981., 1980., 1979.,\n",
       "       1978., 1977., 1976., 1975., 1974., 1973., 1972., 1971., 1970.,\n",
       "       1969., 1968., 1967., 1966., 1965., 1964., 1963., 1962., 1961.,\n",
       "       1960., 1959., 1958., 1957., 1956., 1955., 1954., 1953., 1952.,\n",
       "       1951., 1950., 1949., 1948., 1947., 1945., 1944., 1943., 1941.,\n",
       "       1940., 1939., 1938., 1937., 1936., 1935., 1934., 1933., 1932.,\n",
       "       1931., 1930., 1929., 1928., 1927., 1926., 1925., 1924., 1923.,\n",
       "       1922., 1920., 1919., 1918., 1917., 1916., 1915., 1914., 1913.,\n",
       "       1912., 1911., 1910., 1909., 1908., 1907., 1906., 1905., 1904.,\n",
       "       1903., 1902., 1901., 1900., 1899., 1898., 1897., 1896., 1895.,\n",
       "       1894., 1892., 1891., 1890., 1889., 1887., 1886., 1885., 1884.,\n",
       "       1883., 1882., 1881., 1880., 1879., 1878., 1876., 1874., 1873.,\n",
       "       1872., 1871., 1870., 1866., 1865., 1864., 1863., 1862., 1860.,\n",
       "       1859., 1858., 1857., 1855., 1853., 1852., 1851., 1849., 1848.,\n",
       "       1847., 1845., 1842., 1840., 1837., 1830., 1829., 1828., 1817.,\n",
       "       1816., 1810., 1805., 1803., 1780., 1779., 1640., 1642., 1000.,\n",
       "          0.])"
      ]
     },
     "execution_count": 1870,
     "metadata": {},
     "output_type": "execute_result"
    }
   ],
   "source": [
    "# See if in column year, are any irregularities\n",
    "shark_df_us['year'].unique()"
   ]
  },
  {
   "cell_type": "code",
   "execution_count": 1871,
   "id": "c0634d32-71c9-4548-8a03-132a0599e6d9",
   "metadata": {
    "tags": []
   },
   "outputs": [
    {
     "name": "stderr",
     "output_type": "stream",
     "text": [
      "C:\\Users\\vonke\\AppData\\Local\\Temp\\ipykernel_15648\\427528797.py:2: SettingWithCopyWarning: \n",
      "A value is trying to be set on a copy of a slice from a DataFrame.\n",
      "Try using .loc[row_indexer,col_indexer] = value instead\n",
      "\n",
      "See the caveats in the documentation: https://pandas.pydata.org/pandas-docs/stable/user_guide/indexing.html#returning-a-view-versus-a-copy\n",
      "  shark_df_us['year'] = shark_df_us['year'].astype(int)\n"
     ]
    }
   ],
   "source": [
    "# Change all strings to integers\n",
    "shark_df_us['year'] = shark_df_us['year'].astype(int)"
   ]
  },
  {
   "cell_type": "code",
   "execution_count": 1872,
   "id": "36fc4f9c-0255-4daa-9dd5-94c842b36939",
   "metadata": {
    "tags": []
   },
   "outputs": [
    {
     "data": {
      "text/html": [
       "<div>\n",
       "<style scoped>\n",
       "    .dataframe tbody tr th:only-of-type {\n",
       "        vertical-align: middle;\n",
       "    }\n",
       "\n",
       "    .dataframe tbody tr th {\n",
       "        vertical-align: top;\n",
       "    }\n",
       "\n",
       "    .dataframe thead th {\n",
       "        text-align: right;\n",
       "    }\n",
       "</style>\n",
       "<table border=\"1\" class=\"dataframe\">\n",
       "  <thead>\n",
       "    <tr style=\"text-align: right;\">\n",
       "      <th></th>\n",
       "      <th>date</th>\n",
       "      <th>year</th>\n",
       "      <th>type</th>\n",
       "      <th>country</th>\n",
       "      <th>state</th>\n",
       "      <th>location</th>\n",
       "      <th>activity</th>\n",
       "      <th>name</th>\n",
       "      <th>sex</th>\n",
       "      <th>age</th>\n",
       "      <th>injury</th>\n",
       "      <th>time</th>\n",
       "      <th>species</th>\n",
       "      <th>activity_grouped</th>\n",
       "    </tr>\n",
       "  </thead>\n",
       "  <tbody>\n",
       "    <tr>\n",
       "      <th>6818</th>\n",
       "      <td>2009?</td>\n",
       "      <td>0</td>\n",
       "      <td>Unprovoked</td>\n",
       "      <td>USA</td>\n",
       "      <td>south carolina</td>\n",
       "      <td>Charleston</td>\n",
       "      <td>Swimming</td>\n",
       "      <td>Rick Donnis</td>\n",
       "      <td>M</td>\n",
       "      <td>NaN</td>\n",
       "      <td>Minor injury</td>\n",
       "      <td>NaN</td>\n",
       "      <td>NaN</td>\n",
       "      <td>swimming</td>\n",
       "    </tr>\n",
       "    <tr>\n",
       "      <th>6822</th>\n",
       "      <td>Before 2012</td>\n",
       "      <td>0</td>\n",
       "      <td>Unprovoked</td>\n",
       "      <td>USA</td>\n",
       "      <td>hawaii</td>\n",
       "      <td>Oahu</td>\n",
       "      <td>Diving</td>\n",
       "      <td>Ken O'Keefe</td>\n",
       "      <td>M</td>\n",
       "      <td>NaN</td>\n",
       "      <td>Minor laceration to hand</td>\n",
       "      <td>NaN</td>\n",
       "      <td>Galapagos shark, 6'</td>\n",
       "      <td>swimming</td>\n",
       "    </tr>\n",
       "    <tr>\n",
       "      <th>6824</th>\n",
       "      <td>Before 1908</td>\n",
       "      <td>0</td>\n",
       "      <td>Unprovoked</td>\n",
       "      <td>USA</td>\n",
       "      <td>california</td>\n",
       "      <td>Monterey, Montery County</td>\n",
       "      <td>Fishing for basking sharks</td>\n",
       "      <td>males</td>\n",
       "      <td>M</td>\n",
       "      <td>NaN</td>\n",
       "      <td>FATAL PROVOKED INCIDENTS</td>\n",
       "      <td>NaN</td>\n",
       "      <td>Basking shark</td>\n",
       "      <td>water_sport</td>\n",
       "    </tr>\n",
       "    <tr>\n",
       "      <th>6831</th>\n",
       "      <td>Beforer 1994</td>\n",
       "      <td>0</td>\n",
       "      <td>Unprovoked</td>\n",
       "      <td>USA</td>\n",
       "      <td>florida</td>\n",
       "      <td>Lost Tree Village, Palm Beach County</td>\n",
       "      <td>Surfing</td>\n",
       "      <td>C.M</td>\n",
       "      <td>M</td>\n",
       "      <td>NaN</td>\n",
       "      <td>Legs bitten</td>\n",
       "      <td>NaN</td>\n",
       "      <td>NaN</td>\n",
       "      <td>water_sport</td>\n",
       "    </tr>\n",
       "    <tr>\n",
       "      <th>6840</th>\n",
       "      <td>Before 2006</td>\n",
       "      <td>0</td>\n",
       "      <td>Unprovoked</td>\n",
       "      <td>USA</td>\n",
       "      <td>florida</td>\n",
       "      <td>Tampa Bay, Hillsborough County</td>\n",
       "      <td>Wade-fishing</td>\n",
       "      <td>Ed Snyder</td>\n",
       "      <td>M</td>\n",
       "      <td>NaN</td>\n",
       "      <td>No injury, shark rammed his back</td>\n",
       "      <td>NaN</td>\n",
       "      <td>NaN</td>\n",
       "      <td>fishing</td>\n",
       "    </tr>\n",
       "    <tr>\n",
       "      <th>6847</th>\n",
       "      <td>No date</td>\n",
       "      <td>0</td>\n",
       "      <td>Unprovoked</td>\n",
       "      <td>USA</td>\n",
       "      <td>florida</td>\n",
       "      <td>Key West, Monroe County</td>\n",
       "      <td>Kitesurfing</td>\n",
       "      <td>Paul Menta</td>\n",
       "      <td>M</td>\n",
       "      <td>NaN</td>\n",
       "      <td>Hand bitten</td>\n",
       "      <td>NaN</td>\n",
       "      <td>NaN</td>\n",
       "      <td>water_sport</td>\n",
       "    </tr>\n",
       "    <tr>\n",
       "      <th>6856</th>\n",
       "      <td>No date, Before  1975</td>\n",
       "      <td>0</td>\n",
       "      <td>Provoked</td>\n",
       "      <td>USA</td>\n",
       "      <td>florida</td>\n",
       "      <td>Riviera Beach, Palm Beach County</td>\n",
       "      <td>Skin diving. Grabbed shark's tail; shark turne...</td>\n",
       "      <td>Carl Bruster</td>\n",
       "      <td>M</td>\n",
       "      <td>19</td>\n",
       "      <td>Ankle punctured &amp; lacerated, hands abraded PRO...</td>\n",
       "      <td>NaN</td>\n",
       "      <td>Nurse shark, 2.1 m [7']</td>\n",
       "      <td>water_sport</td>\n",
       "    </tr>\n",
       "    <tr>\n",
       "      <th>6860</th>\n",
       "      <td>No date, Before 1963</td>\n",
       "      <td>0</td>\n",
       "      <td>Unprovoked</td>\n",
       "      <td>USA</td>\n",
       "      <td>california</td>\n",
       "      <td>LaJolla, San Diego County</td>\n",
       "      <td>Free diving, collecting sand dollars</td>\n",
       "      <td>Charles Fleming</td>\n",
       "      <td>M</td>\n",
       "      <td>NaN</td>\n",
       "      <td>Calf bitten</td>\n",
       "      <td>NaN</td>\n",
       "      <td>Shovelnose guitarfish, adult male</td>\n",
       "      <td>swimming</td>\n",
       "    </tr>\n",
       "    <tr>\n",
       "      <th>6862</th>\n",
       "      <td>No date, Before 1963</td>\n",
       "      <td>0</td>\n",
       "      <td>Invalid</td>\n",
       "      <td>USA</td>\n",
       "      <td>hawaii</td>\n",
       "      <td>Portlock, Oahu</td>\n",
       "      <td>Diving</td>\n",
       "      <td>Val Valentine</td>\n",
       "      <td>M</td>\n",
       "      <td>NaN</td>\n",
       "      <td>A 4.3 m [14'] shark made threat display. No in...</td>\n",
       "      <td>NaN</td>\n",
       "      <td>Invalid</td>\n",
       "      <td>swimming</td>\n",
       "    </tr>\n",
       "    <tr>\n",
       "      <th>6863</th>\n",
       "      <td>No date, Before 1902</td>\n",
       "      <td>0</td>\n",
       "      <td>Unprovoked</td>\n",
       "      <td>USA</td>\n",
       "      <td>florida</td>\n",
       "      <td>Mosquito Inlet (Ponce Inlet), Volusia County</td>\n",
       "      <td>Canoeing</td>\n",
       "      <td>male</td>\n",
       "      <td>M</td>\n",
       "      <td>NaN</td>\n",
       "      <td>FATAL</td>\n",
       "      <td>NaN</td>\n",
       "      <td>NaN</td>\n",
       "      <td>water_sport</td>\n",
       "    </tr>\n",
       "    <tr>\n",
       "      <th>6875</th>\n",
       "      <td>Before  19-Jun-1959</td>\n",
       "      <td>0</td>\n",
       "      <td>Unprovoked</td>\n",
       "      <td>USA</td>\n",
       "      <td>california</td>\n",
       "      <td>Capistrano, Orange County</td>\n",
       "      <td>NaN</td>\n",
       "      <td>girl</td>\n",
       "      <td>F</td>\n",
       "      <td>NaN</td>\n",
       "      <td>Leg injured</td>\n",
       "      <td>NaN</td>\n",
       "      <td>White shark, 1,900-lb</td>\n",
       "      <td>others</td>\n",
       "    </tr>\n",
       "    <tr>\n",
       "      <th>6879</th>\n",
       "      <td>Before 1958</td>\n",
       "      <td>0</td>\n",
       "      <td>Unprovoked</td>\n",
       "      <td>USA</td>\n",
       "      <td>florida</td>\n",
       "      <td>Palm Beach, Palm Beach County</td>\n",
       "      <td>Standing</td>\n",
       "      <td>Horton Chase</td>\n",
       "      <td>M</td>\n",
       "      <td>NaN</td>\n",
       "      <td>Abrasions &amp; bruises hip to ankle</td>\n",
       "      <td>NaN</td>\n",
       "      <td>NaN</td>\n",
       "      <td>others</td>\n",
       "    </tr>\n",
       "    <tr>\n",
       "      <th>6913</th>\n",
       "      <td>Before 1921</td>\n",
       "      <td>0</td>\n",
       "      <td>Unprovoked</td>\n",
       "      <td>USA</td>\n",
       "      <td>florida</td>\n",
       "      <td>Gadsden Point, Tampa Bay</td>\n",
       "      <td>Fishing</td>\n",
       "      <td>James Kelley</td>\n",
       "      <td>M</td>\n",
       "      <td>NaN</td>\n",
       "      <td>2-inch lacerations</td>\n",
       "      <td>NaN</td>\n",
       "      <td>NaN</td>\n",
       "      <td>fishing</td>\n",
       "    </tr>\n",
       "    <tr>\n",
       "      <th>6918</th>\n",
       "      <td>Before 17-Jul-1916</td>\n",
       "      <td>0</td>\n",
       "      <td>Unprovoked</td>\n",
       "      <td>USA</td>\n",
       "      <td>north carolina</td>\n",
       "      <td>Somewhere between Hatteras and Beaufort</td>\n",
       "      <td>Swimming</td>\n",
       "      <td>\"youthful male\"</td>\n",
       "      <td>M</td>\n",
       "      <td>NaN</td>\n",
       "      <td>\"Lost leg\"</td>\n",
       "      <td>NaN</td>\n",
       "      <td>NaN</td>\n",
       "      <td>swimming</td>\n",
       "    </tr>\n",
       "    <tr>\n",
       "      <th>6922</th>\n",
       "      <td>Circa 1862</td>\n",
       "      <td>0</td>\n",
       "      <td>Unprovoked</td>\n",
       "      <td>USA</td>\n",
       "      <td>hawaii</td>\n",
       "      <td>Puna</td>\n",
       "      <td>NaN</td>\n",
       "      <td>A \"chiefess\"</td>\n",
       "      <td>F</td>\n",
       "      <td>NaN</td>\n",
       "      <td>Ankle bitten</td>\n",
       "      <td>NaN</td>\n",
       "      <td>NaN</td>\n",
       "      <td>others</td>\n",
       "    </tr>\n",
       "    <tr>\n",
       "      <th>6929</th>\n",
       "      <td>1900-1905</td>\n",
       "      <td>0</td>\n",
       "      <td>Unprovoked</td>\n",
       "      <td>USA</td>\n",
       "      <td>north carolina</td>\n",
       "      <td>Ocracoke Inlet</td>\n",
       "      <td>Swimming</td>\n",
       "      <td>Coast Guard personnel</td>\n",
       "      <td>M</td>\n",
       "      <td>NaN</td>\n",
       "      <td>FATAL</td>\n",
       "      <td>NaN</td>\n",
       "      <td>NaN</td>\n",
       "      <td>swimming</td>\n",
       "    </tr>\n",
       "  </tbody>\n",
       "</table>\n",
       "</div>"
      ],
      "text/plain": [
       "                       date  year        type country           state  \\\n",
       "6818                  2009?     0  Unprovoked     USA  south carolina   \n",
       "6822            Before 2012     0  Unprovoked     USA          hawaii   \n",
       "6824            Before 1908     0  Unprovoked     USA      california   \n",
       "6831           Beforer 1994     0  Unprovoked     USA         florida   \n",
       "6840            Before 2006     0  Unprovoked     USA         florida   \n",
       "6847                No date     0  Unprovoked     USA         florida   \n",
       "6856  No date, Before  1975     0    Provoked     USA         florida   \n",
       "6860   No date, Before 1963     0  Unprovoked     USA      california   \n",
       "6862   No date, Before 1963     0     Invalid     USA          hawaii   \n",
       "6863   No date, Before 1902     0  Unprovoked     USA         florida   \n",
       "6875    Before  19-Jun-1959     0  Unprovoked     USA      california   \n",
       "6879            Before 1958     0  Unprovoked     USA         florida   \n",
       "6913            Before 1921     0  Unprovoked     USA         florida   \n",
       "6918     Before 17-Jul-1916     0  Unprovoked     USA  north carolina   \n",
       "6922             Circa 1862     0  Unprovoked     USA          hawaii   \n",
       "6929              1900-1905     0  Unprovoked     USA  north carolina   \n",
       "\n",
       "                                          location  \\\n",
       "6818                                    Charleston   \n",
       "6822                                          Oahu   \n",
       "6824                      Monterey, Montery County   \n",
       "6831          Lost Tree Village, Palm Beach County   \n",
       "6840                Tampa Bay, Hillsborough County   \n",
       "6847                       Key West, Monroe County   \n",
       "6856              Riviera Beach, Palm Beach County   \n",
       "6860                     LaJolla, San Diego County   \n",
       "6862                                Portlock, Oahu   \n",
       "6863  Mosquito Inlet (Ponce Inlet), Volusia County   \n",
       "6875                     Capistrano, Orange County   \n",
       "6879                 Palm Beach, Palm Beach County   \n",
       "6913                      Gadsden Point, Tampa Bay   \n",
       "6918       Somewhere between Hatteras and Beaufort   \n",
       "6922                                          Puna   \n",
       "6929                                Ocracoke Inlet   \n",
       "\n",
       "                                               activity  \\\n",
       "6818                                           Swimming   \n",
       "6822                                             Diving   \n",
       "6824                         Fishing for basking sharks   \n",
       "6831                                            Surfing   \n",
       "6840                                       Wade-fishing   \n",
       "6847                                        Kitesurfing   \n",
       "6856  Skin diving. Grabbed shark's tail; shark turne...   \n",
       "6860               Free diving, collecting sand dollars   \n",
       "6862                                             Diving   \n",
       "6863                                           Canoeing   \n",
       "6875                                                NaN   \n",
       "6879                                           Standing   \n",
       "6913                                            Fishing   \n",
       "6918                                           Swimming   \n",
       "6922                                                NaN   \n",
       "6929                                           Swimming   \n",
       "\n",
       "                       name sex  age  \\\n",
       "6818            Rick Donnis   M  NaN   \n",
       "6822            Ken O'Keefe   M  NaN   \n",
       "6824                  males   M  NaN   \n",
       "6831                    C.M   M  NaN   \n",
       "6840              Ed Snyder   M  NaN   \n",
       "6847             Paul Menta   M  NaN   \n",
       "6856           Carl Bruster   M   19   \n",
       "6860        Charles Fleming   M  NaN   \n",
       "6862          Val Valentine   M  NaN   \n",
       "6863                   male   M  NaN   \n",
       "6875                   girl   F  NaN   \n",
       "6879           Horton Chase   M  NaN   \n",
       "6913           James Kelley   M  NaN   \n",
       "6918        \"youthful male\"   M  NaN   \n",
       "6922           A \"chiefess\"   F  NaN   \n",
       "6929  Coast Guard personnel   M  NaN   \n",
       "\n",
       "                                                 injury time  \\\n",
       "6818                                       Minor injury  NaN   \n",
       "6822                           Minor laceration to hand  NaN   \n",
       "6824                           FATAL PROVOKED INCIDENTS  NaN   \n",
       "6831                                        Legs bitten  NaN   \n",
       "6840                   No injury, shark rammed his back  NaN   \n",
       "6847                                        Hand bitten  NaN   \n",
       "6856  Ankle punctured & lacerated, hands abraded PRO...  NaN   \n",
       "6860                                        Calf bitten  NaN   \n",
       "6862  A 4.3 m [14'] shark made threat display. No in...  NaN   \n",
       "6863                                              FATAL  NaN   \n",
       "6875                                        Leg injured  NaN   \n",
       "6879                   Abrasions & bruises hip to ankle  NaN   \n",
       "6913                                 2-inch lacerations  NaN   \n",
       "6918                                         \"Lost leg\"  NaN   \n",
       "6922                                       Ankle bitten  NaN   \n",
       "6929                                              FATAL  NaN   \n",
       "\n",
       "                                species  activity_grouped  \n",
       "6818                                 NaN         swimming  \n",
       "6822                 Galapagos shark, 6'         swimming  \n",
       "6824                       Basking shark      water_sport  \n",
       "6831                                 NaN      water_sport  \n",
       "6840                                 NaN          fishing  \n",
       "6847                                 NaN      water_sport  \n",
       "6856            Nurse shark, 2.1 m [7']       water_sport  \n",
       "6860  Shovelnose guitarfish, adult male          swimming  \n",
       "6862                             Invalid         swimming  \n",
       "6863                                 NaN      water_sport  \n",
       "6875              White shark, 1,900-lb            others  \n",
       "6879                                 NaN           others  \n",
       "6913                                 NaN          fishing  \n",
       "6918                                 NaN         swimming  \n",
       "6922                                 NaN           others  \n",
       "6929                                 NaN         swimming  "
      ]
     },
     "execution_count": 1872,
     "metadata": {},
     "output_type": "execute_result"
    }
   ],
   "source": [
    "# Filter DataFrame for years with less than 4 chracters\n",
    "condition = shark_df_us['year'].astype(str).apply(len) < 4\n",
    "filtered_df = shark_df_us[condition]\n",
    "filtered_df"
   ]
  },
  {
   "cell_type": "code",
   "execution_count": 1873,
   "id": "af601e0f-8977-41e7-a743-e233ef395653",
   "metadata": {
    "tags": []
   },
   "outputs": [
    {
     "name": "stdout",
     "output_type": "stream",
     "text": [
      "[0]\n"
     ]
    }
   ],
   "source": [
    "# Get the unique value of these cells\n",
    "result = shark_df_us['year'].unique()\n",
    "smaller_than_4 = [value for value in result if len(str(value)) < 4]\n",
    "print(smaller_than_4)"
   ]
  },
  {
   "cell_type": "code",
   "execution_count": 1874,
   "id": "5a0ebade-213e-48ec-aefe-1fc5107a845c",
   "metadata": {
    "tags": []
   },
   "outputs": [
    {
     "name": "stderr",
     "output_type": "stream",
     "text": [
      "C:\\Users\\vonke\\AppData\\Local\\Temp\\ipykernel_15648\\3655955125.py:3: SettingWithCopyWarning: \n",
      "A value is trying to be set on a copy of a slice from a DataFrame.\n",
      "Try using .loc[row_indexer,col_indexer] = value instead\n",
      "\n",
      "See the caveats in the documentation: https://pandas.pydata.org/pandas-docs/stable/user_guide/indexing.html#returning-a-view-versus-a-copy\n",
      "  shark_df_us['year'] = shark_df_us['year'].replace(item, shark_df_us.year.mode()[0])\n"
     ]
    }
   ],
   "source": [
    "# Replace these values with the Mode of the column year\n",
    "for item in smaller_than_4:\n",
    "    shark_df_us['year'] = shark_df_us['year'].replace(item, shark_df_us.year.mode()[0])"
   ]
  },
  {
   "cell_type": "code",
   "execution_count": 1875,
   "id": "a217cba3-8625-4e55-8dc4-6f9f49b59fa6",
   "metadata": {
    "tags": []
   },
   "outputs": [
    {
     "data": {
      "text/plain": [
       "array([2023, 2022, 2021, 2020, 2019, 2018, 2017, 2016, 2015, 2014, 2013,\n",
       "       2012, 2011, 2010, 2009, 2008, 2007, 2006, 2005, 2004, 2003, 2002,\n",
       "       2001, 2000, 1999, 1998, 1997, 1996, 1995, 1994, 1993, 1992, 1991,\n",
       "       1990, 1989, 1988, 1987, 1986, 1985, 1984, 1983, 1982, 1981, 1980,\n",
       "       1979, 1978, 1977, 1976, 1975, 1974, 1973, 1972, 1971, 1970, 1969,\n",
       "       1968, 1967, 1966, 1965, 1964, 1963, 1962, 1961, 1960, 1959, 1958,\n",
       "       1957, 1956, 1955, 1954, 1953, 1952, 1951, 1950, 1949, 1948, 1947,\n",
       "       1945, 1944, 1943, 1941, 1940, 1939, 1938, 1937, 1936, 1935, 1934,\n",
       "       1933, 1932, 1931, 1930, 1929, 1928, 1927, 1926, 1925, 1924, 1923,\n",
       "       1922, 1920, 1919, 1918, 1917, 1916, 1915, 1914, 1913, 1912, 1911,\n",
       "       1910, 1909, 1908, 1907, 1906, 1905, 1904, 1903, 1902, 1901, 1900,\n",
       "       1899, 1898, 1897, 1896, 1895, 1894, 1892, 1891, 1890, 1889, 1887,\n",
       "       1886, 1885, 1884, 1883, 1882, 1881, 1880, 1879, 1878, 1876, 1874,\n",
       "       1873, 1872, 1871, 1870, 1866, 1865, 1864, 1863, 1862, 1860, 1859,\n",
       "       1858, 1857, 1855, 1853, 1852, 1851, 1849, 1848, 1847, 1845, 1842,\n",
       "       1840, 1837, 1830, 1829, 1828, 1817, 1816, 1810, 1805, 1803, 1780,\n",
       "       1779, 1640, 1642, 1000])"
      ]
     },
     "execution_count": 1875,
     "metadata": {},
     "output_type": "execute_result"
    }
   ],
   "source": [
    "# Check again for irregularities\n",
    "shark_df_us['year'].unique()"
   ]
  },
  {
   "cell_type": "markdown",
   "id": "fa18b624-15e1-4839-9930-8d7ddfbf7f84",
   "metadata": {},
   "source": [
    "# 2. Clean column Date"
   ]
  },
  {
   "cell_type": "code",
   "execution_count": 1876,
   "id": "aa57922b-acbc-4dc5-a4f2-f4756bfa681d",
   "metadata": {
    "tags": []
   },
   "outputs": [
    {
     "data": {
      "text/plain": [
       "0"
      ]
     },
     "execution_count": 1876,
     "metadata": {},
     "output_type": "execute_result"
    }
   ],
   "source": [
    "# Check how many empty cells are in column date\n",
    "shark_df_us['date'].isna().sum()"
   ]
  },
  {
   "cell_type": "code",
   "execution_count": null,
   "id": "19aa599c-7e4c-4392-acf4-96df0b277d58",
   "metadata": {},
   "outputs": [],
   "source": []
  },
  {
   "cell_type": "code",
   "execution_count": null,
   "id": "2ce50e19-63f7-4092-8670-2d1c4bea177e",
   "metadata": {},
   "outputs": [],
   "source": []
  },
  {
   "cell_type": "code",
   "execution_count": 1877,
   "id": "0ebcb21f-935c-4e33-8a9f-880cc60a0aae",
   "metadata": {
    "tags": []
   },
   "outputs": [
    {
     "name": "stderr",
     "output_type": "stream",
     "text": [
      "C:\\Users\\vonke\\AppData\\Local\\Temp\\ipykernel_15648\\1182924623.py:2: SettingWithCopyWarning: \n",
      "A value is trying to be set on a copy of a slice from a DataFrame.\n",
      "Try using .loc[row_indexer,col_indexer] = value instead\n",
      "\n",
      "See the caveats in the documentation: https://pandas.pydata.org/pandas-docs/stable/user_guide/indexing.html#returning-a-view-versus-a-copy\n",
      "  shark_df_us[\"date\"] = shark_df_us[\"date\"].str.replace('  ', '-').str.replace(' ', '-').str.replace('--', '-').str.replace('Reported', '').str.replace('`', '').str.replace('.', '').str.strip()\n",
      "C:\\Users\\vonke\\AppData\\Local\\Temp\\ipykernel_15648\\1182924623.py:3: SettingWithCopyWarning: \n",
      "A value is trying to be set on a copy of a slice from a DataFrame.\n",
      "Try using .loc[row_indexer,col_indexer] = value instead\n",
      "\n",
      "See the caveats in the documentation: https://pandas.pydata.org/pandas-docs/stable/user_guide/indexing.html#returning-a-view-versus-a-copy\n",
      "  shark_df_us[\"date\"] = shark_df_us[\"date\"].apply(lambda x: x.split('-') if pd.notna(x) else []).apply(lambda date_list: '-'.join(filter(lambda x: x and len(x) <= 10, date_list)))\n",
      "C:\\Users\\vonke\\AppData\\Local\\Temp\\ipykernel_15648\\1182924623.py:4: SettingWithCopyWarning: \n",
      "A value is trying to be set on a copy of a slice from a DataFrame.\n",
      "Try using .loc[row_indexer,col_indexer] = value instead\n",
      "\n",
      "See the caveats in the documentation: https://pandas.pydata.org/pandas-docs/stable/user_guide/indexing.html#returning-a-view-versus-a-copy\n",
      "  shark_df_us[\"date\"] = shark_df_us[\"date\"].apply(lambda x: '-'.join(x.split('-')) if pd.notna(x) and len(x.split('-')) > 1 else x)\n",
      "C:\\Users\\vonke\\AppData\\Local\\Temp\\ipykernel_15648\\1182924623.py:5: SettingWithCopyWarning: \n",
      "A value is trying to be set on a copy of a slice from a DataFrame.\n",
      "Try using .loc[row_indexer,col_indexer] = value instead\n",
      "\n",
      "See the caveats in the documentation: https://pandas.pydata.org/pandas-docs/stable/user_guide/indexing.html#returning-a-view-versus-a-copy\n",
      "  shark_df_us[\"date\"] = shark_df_us[\"date\"].apply(lambda x: x.split('-') if pd.notna(x) else []).apply(lambda date_list: date_list[:1] + [date_list[1][:3]] + date_list[2:] if len(date_list) == 3 else date_list).apply(lambda date_list: '-'.join(date_list) if date_list else '')\n",
      "C:\\Users\\vonke\\AppData\\Local\\Temp\\ipykernel_15648\\1182924623.py:6: SettingWithCopyWarning: \n",
      "A value is trying to be set on a copy of a slice from a DataFrame.\n",
      "Try using .loc[row_indexer,col_indexer] = value instead\n",
      "\n",
      "See the caveats in the documentation: https://pandas.pydata.org/pandas-docs/stable/user_guide/indexing.html#returning-a-view-versus-a-copy\n",
      "  shark_df_us[\"date\"] = shark_df_us[\"date\"].apply(lambda x: x.split('-') if pd.notna(x) else []).apply(lambda date_list: ['01', 'Jan'] + date_list if len(date_list) == 1 and len(date_list[0]) == 4 else date_list).apply(lambda date_list: '-'.join(date_list) if date_list else '')\n",
      "C:\\Users\\vonke\\AppData\\Local\\Temp\\ipykernel_15648\\1182924623.py:7: SettingWithCopyWarning: \n",
      "A value is trying to be set on a copy of a slice from a DataFrame.\n",
      "Try using .loc[row_indexer,col_indexer] = value instead\n",
      "\n",
      "See the caveats in the documentation: https://pandas.pydata.org/pandas-docs/stable/user_guide/indexing.html#returning-a-view-versus-a-copy\n",
      "  shark_df_us[\"date\"] = shark_df_us[\"date\"].apply(lambda x: x.split('-') if pd.notna(x) else []).apply(lambda date_list: ['01'] + date_list if len(date_list) == 2 else date_list).apply(lambda date_list: '-'.join(date_list) if date_list else '')\n"
     ]
    }
   ],
   "source": [
    "# format\n",
    "shark_df_us[\"date\"] = shark_df_us[\"date\"].str.replace('  ', '-').str.replace(' ', '-').str.replace('--', '-').str.replace('Reported', '').str.replace('`', '').str.replace('.', '').str.strip()\n",
    "shark_df_us[\"date\"] = shark_df_us[\"date\"].apply(lambda x: x.split('-') if pd.notna(x) else []).apply(lambda date_list: '-'.join(filter(lambda x: x and len(x) <= 10, date_list)))\n",
    "shark_df_us[\"date\"] = shark_df_us[\"date\"].apply(lambda x: '-'.join(x.split('-')) if pd.notna(x) and len(x.split('-')) > 1 else x)\n",
    "shark_df_us[\"date\"] = shark_df_us[\"date\"].apply(lambda x: x.split('-') if pd.notna(x) else []).apply(lambda date_list: date_list[:1] + [date_list[1][:3]] + date_list[2:] if len(date_list) == 3 else date_list).apply(lambda date_list: '-'.join(date_list) if date_list else '')\n",
    "shark_df_us[\"date\"] = shark_df_us[\"date\"].apply(lambda x: x.split('-') if pd.notna(x) else []).apply(lambda date_list: ['01', 'Jan'] + date_list if len(date_list) == 1 and len(date_list[0]) == 4 else date_list).apply(lambda date_list: '-'.join(date_list) if date_list else '')\n",
    "shark_df_us[\"date\"] = shark_df_us[\"date\"].apply(lambda x: x.split('-') if pd.notna(x) else []).apply(lambda date_list: ['01'] + date_list if len(date_list) == 2 else date_list).apply(lambda date_list: '-'.join(date_list) if date_list else '')\n",
    "# shark_df_us[\"date\"] = pd.to_datetime(shark_df_us[\"date\"])"
   ]
  },
  {
   "cell_type": "code",
   "execution_count": 1878,
   "id": "9858d684-46ff-4517-9d73-bcdcf1edf06a",
   "metadata": {},
   "outputs": [],
   "source": [
    "# while True:\n",
    "#     try:\n",
    "#         shark_df_us[\"date\"] = pd.to_datetime(shark_df_us[\"date\"]) \n",
    "#         break\n",
    "#     except:\n",
    "#         shark_df_us[\"date\"] = pd.to_datetime(None)\n",
    "#         break"
   ]
  },
  {
   "cell_type": "code",
   "execution_count": 1879,
   "id": "adeb0729-2683-4b0c-9d32-c8ff4511426f",
   "metadata": {
    "tags": []
   },
   "outputs": [],
   "source": [
    "# shark_df_us[\"date\"] = pd.to_datetime(shark_df_us.date,format='%d-%m-%y')"
   ]
  },
  {
   "cell_type": "code",
   "execution_count": 1880,
   "id": "d453cfc7-fbce-40dc-beac-6ebaae25b4e1",
   "metadata": {
    "tags": []
   },
   "outputs": [],
   "source": [
    "# shark_df_us[\"date\"] = shark_df_us[\"date\"].apply(lambda x: x.split('-') if pd.notna(x) else []).apply(lambda date_list: ['01', 'Jan'] + date_list if len(date_list) == 1 and len(date_list[0]) == 4 else date_list).apply(lambda date_list: '-'.join(date_list) if date_list else '')"
   ]
  },
  {
   "cell_type": "code",
   "execution_count": 1881,
   "id": "13668a65-2f27-4748-a2c4-4b89849cfec2",
   "metadata": {
    "tags": []
   },
   "outputs": [],
   "source": [
    "for format in date_formats:\n",
    "    try:\n",
    "        shark_df_us[\"date\"] = pd.to_datetime(shark_df_us[\"date\"])\n",
    "        break  # Break out of the loop if a format is successfully applied\n",
    "    except ValueError:\n",
    "        print(f\"Unable to parse dates with format {format}\")\n",
    "        print(\"Problematic dates:\")\n",
    "        print(shark_df_us.loc[pd.to_datetime(shark_df_us[\"date\"], errors='coerce').isnull(), \"date\"])\n",
    "        # shark_df_us[\"date\"] = ''  # Set an empty string if the format is not successfully applied\n",
    "\n",
    "# Now, shark_df_us[\"date\"] should contain the parsed dates with the correct format, or empty strings for unsuccessful cases."
   ]
  },
  {
   "cell_type": "code",
   "execution_count": 1882,
   "id": "6c92da21-955e-4aa2-a0ba-5b1caa4fb4fe",
   "metadata": {
    "tags": []
   },
   "outputs": [],
   "source": [
    "# import pandas as pd\n",
    "\n",
    "# date_formats = ['%d-%m-%y', '%d-%b-%Y', '%d-%B-%Y', '%d-%b%Y']\n",
    "\n",
    "# for date_format in date_formats:\n",
    "#     try:\n",
    "#         shark_df_us[\"date\"] = pd.to_datetime(shark_df_us[\"date\"], format=date_format)\n",
    "#         break  # Break out of the loop if successful\n",
    "#     except ValueError:\n",
    "#         pass  # Continue to the next format if unsuccessful\n",
    "# else:\n",
    "#     print(f\"Unable to parse dates with formats {', '.join(date_formats)}\")\n",
    "#     print(\"Problematic dates:\")\n",
    "#     problematic_dates = shark_df_us.loc[pd.to_datetime(shark_df_us[\"date\"], errors='coerce').isnull(), \"date\"]\n",
    "#     print(problematic_dates)\n",
    "#     # shark_df_us[\"date\"] = ''  # Set an empty string if the formats are not successfully applied\n"
   ]
  },
  {
   "cell_type": "code",
   "execution_count": 1883,
   "id": "0d20fa01-8200-43f2-a5f8-e94ba11fbd46",
   "metadata": {
    "tags": []
   },
   "outputs": [
    {
     "data": {
      "text/plain": [
       "array(['30-Dec-2023', '05-Nov-2023', '25-Oct-2023', ..., '01-Before-1921',\n",
       "       'Before-17-Jul-1916', '01-1900-1905'], dtype=object)"
      ]
     },
     "execution_count": 1883,
     "metadata": {},
     "output_type": "execute_result"
    }
   ],
   "source": [
    "shark_df_us[\"date\"].unique()"
   ]
  },
  {
   "cell_type": "code",
   "execution_count": 1884,
   "id": "8c51dc30-e3f6-4de6-b604-e0faac07ca53",
   "metadata": {
    "tags": []
   },
   "outputs": [
    {
     "data": {
      "text/plain": [
       "2              30-Dec-2023\n",
       "16             05-Nov-2023\n",
       "21             25-Oct-2023\n",
       "25             15-Oct-2023\n",
       "26             13-Oct-2023\n",
       "               ...        \n",
       "6879        01-Before-1958\n",
       "6913        01-Before-1921\n",
       "6918    Before-17-Jul-1916\n",
       "6922         01-Circa-1862\n",
       "6929          01-1900-1905\n",
       "Name: date, Length: 2476, dtype: object"
      ]
     },
     "execution_count": 1884,
     "metadata": {},
     "output_type": "execute_result"
    }
   ],
   "source": [
    "shark_df_us['date']"
   ]
  },
  {
   "cell_type": "code",
   "execution_count": 1885,
   "id": "3fd25afa-5eb8-43c7-a461-84299559c48c",
   "metadata": {
    "tags": []
   },
   "outputs": [
    {
     "ename": "KeyError",
     "evalue": "\"None of [Index(['30-Dec-2023', '05-Nov-2023', '25-Oct-2023', '15-Oct-2023',\\n       '13-Oct-2023', '02-Oct-2023', '01-Oct-2023', '18-Sep-2023',\\n       '12-Sep-2023', '11-Sep-2023',\\n       ...\\n       'No-date,-Before-1975', 'No-date,-Before-1963', 'No-date,-Before-1963',\\n       'No-date,-Before-1902', 'Before-19-Jun-1959', '01-Before-1958',\\n       '01-Before-1921', 'Before-17-Jul-1916', '01-Circa-1862',\\n       '01-1900-1905'],\\n      dtype='object', length=2476)] are in the [columns]\"",
     "output_type": "error",
     "traceback": [
      "\u001b[1;31m---------------------------------------------------------------------------\u001b[0m",
      "\u001b[1;31mKeyError\u001b[0m                                  Traceback (most recent call last)",
      "Cell \u001b[1;32mIn[1885], line 3\u001b[0m\n\u001b[0;32m      1\u001b[0m \u001b[38;5;66;03m# Filter DataFrame  with less than 4 chracters\u001b[39;00m\n\u001b[0;32m      2\u001b[0m condition \u001b[38;5;241m=\u001b[39m shark_df_us[\u001b[38;5;124m'\u001b[39m\u001b[38;5;124mdate\u001b[39m\u001b[38;5;124m'\u001b[39m]\n\u001b[1;32m----> 3\u001b[0m filtered_df \u001b[38;5;241m=\u001b[39m shark_df_us[condition]\n\u001b[0;32m      4\u001b[0m filtered_df\n",
      "File \u001b[1;32m~\\anaconda3\\Lib\\site-packages\\pandas\\core\\frame.py:3767\u001b[0m, in \u001b[0;36mDataFrame.__getitem__\u001b[1;34m(self, key)\u001b[0m\n\u001b[0;32m   3765\u001b[0m     \u001b[38;5;28;01mif\u001b[39;00m is_iterator(key):\n\u001b[0;32m   3766\u001b[0m         key \u001b[38;5;241m=\u001b[39m \u001b[38;5;28mlist\u001b[39m(key)\n\u001b[1;32m-> 3767\u001b[0m     indexer \u001b[38;5;241m=\u001b[39m \u001b[38;5;28mself\u001b[39m\u001b[38;5;241m.\u001b[39mcolumns\u001b[38;5;241m.\u001b[39m_get_indexer_strict(key, \u001b[38;5;124m\"\u001b[39m\u001b[38;5;124mcolumns\u001b[39m\u001b[38;5;124m\"\u001b[39m)[\u001b[38;5;241m1\u001b[39m]\n\u001b[0;32m   3769\u001b[0m \u001b[38;5;66;03m# take() does not accept boolean indexers\u001b[39;00m\n\u001b[0;32m   3770\u001b[0m \u001b[38;5;28;01mif\u001b[39;00m \u001b[38;5;28mgetattr\u001b[39m(indexer, \u001b[38;5;124m\"\u001b[39m\u001b[38;5;124mdtype\u001b[39m\u001b[38;5;124m\"\u001b[39m, \u001b[38;5;28;01mNone\u001b[39;00m) \u001b[38;5;241m==\u001b[39m \u001b[38;5;28mbool\u001b[39m:\n",
      "File \u001b[1;32m~\\anaconda3\\Lib\\site-packages\\pandas\\core\\indexes\\base.py:5877\u001b[0m, in \u001b[0;36mIndex._get_indexer_strict\u001b[1;34m(self, key, axis_name)\u001b[0m\n\u001b[0;32m   5874\u001b[0m \u001b[38;5;28;01melse\u001b[39;00m:\n\u001b[0;32m   5875\u001b[0m     keyarr, indexer, new_indexer \u001b[38;5;241m=\u001b[39m \u001b[38;5;28mself\u001b[39m\u001b[38;5;241m.\u001b[39m_reindex_non_unique(keyarr)\n\u001b[1;32m-> 5877\u001b[0m \u001b[38;5;28mself\u001b[39m\u001b[38;5;241m.\u001b[39m_raise_if_missing(keyarr, indexer, axis_name)\n\u001b[0;32m   5879\u001b[0m keyarr \u001b[38;5;241m=\u001b[39m \u001b[38;5;28mself\u001b[39m\u001b[38;5;241m.\u001b[39mtake(indexer)\n\u001b[0;32m   5880\u001b[0m \u001b[38;5;28;01mif\u001b[39;00m \u001b[38;5;28misinstance\u001b[39m(key, Index):\n\u001b[0;32m   5881\u001b[0m     \u001b[38;5;66;03m# GH 42790 - Preserve name from an Index\u001b[39;00m\n",
      "File \u001b[1;32m~\\anaconda3\\Lib\\site-packages\\pandas\\core\\indexes\\base.py:5938\u001b[0m, in \u001b[0;36mIndex._raise_if_missing\u001b[1;34m(self, key, indexer, axis_name)\u001b[0m\n\u001b[0;32m   5936\u001b[0m     \u001b[38;5;28;01mif\u001b[39;00m use_interval_msg:\n\u001b[0;32m   5937\u001b[0m         key \u001b[38;5;241m=\u001b[39m \u001b[38;5;28mlist\u001b[39m(key)\n\u001b[1;32m-> 5938\u001b[0m     \u001b[38;5;28;01mraise\u001b[39;00m \u001b[38;5;167;01mKeyError\u001b[39;00m(\u001b[38;5;124mf\u001b[39m\u001b[38;5;124m\"\u001b[39m\u001b[38;5;124mNone of [\u001b[39m\u001b[38;5;132;01m{\u001b[39;00mkey\u001b[38;5;132;01m}\u001b[39;00m\u001b[38;5;124m] are in the [\u001b[39m\u001b[38;5;132;01m{\u001b[39;00maxis_name\u001b[38;5;132;01m}\u001b[39;00m\u001b[38;5;124m]\u001b[39m\u001b[38;5;124m\"\u001b[39m)\n\u001b[0;32m   5940\u001b[0m not_found \u001b[38;5;241m=\u001b[39m \u001b[38;5;28mlist\u001b[39m(ensure_index(key)[missing_mask\u001b[38;5;241m.\u001b[39mnonzero()[\u001b[38;5;241m0\u001b[39m]]\u001b[38;5;241m.\u001b[39munique())\n\u001b[0;32m   5941\u001b[0m \u001b[38;5;28;01mraise\u001b[39;00m \u001b[38;5;167;01mKeyError\u001b[39;00m(\u001b[38;5;124mf\u001b[39m\u001b[38;5;124m\"\u001b[39m\u001b[38;5;132;01m{\u001b[39;00mnot_found\u001b[38;5;132;01m}\u001b[39;00m\u001b[38;5;124m not in index\u001b[39m\u001b[38;5;124m\"\u001b[39m)\n",
      "\u001b[1;31mKeyError\u001b[0m: \"None of [Index(['30-Dec-2023', '05-Nov-2023', '25-Oct-2023', '15-Oct-2023',\\n       '13-Oct-2023', '02-Oct-2023', '01-Oct-2023', '18-Sep-2023',\\n       '12-Sep-2023', '11-Sep-2023',\\n       ...\\n       'No-date,-Before-1975', 'No-date,-Before-1963', 'No-date,-Before-1963',\\n       'No-date,-Before-1902', 'Before-19-Jun-1959', '01-Before-1958',\\n       '01-Before-1921', 'Before-17-Jul-1916', '01-Circa-1862',\\n       '01-1900-1905'],\\n      dtype='object', length=2476)] are in the [columns]\""
     ]
    }
   ],
   "source": [
    "# Filter DataFrame  with less than 4 chracters\n",
    "condition = shark_df_us['date']\n",
    "filtered_df = shark_df_us[condition]\n",
    "filtered_df"
   ]
  },
  {
   "cell_type": "code",
   "execution_count": null,
   "id": "dc54b67c-3ddc-4ee9-8cc1-676444a4a90e",
   "metadata": {
    "tags": []
   },
   "outputs": [],
   "source": [
    "shark_df_us['date'].unique()"
   ]
  },
  {
   "cell_type": "code",
   "execution_count": null,
   "id": "832eedf1-6307-4d00-8df4-c7dbe4f69226",
   "metadata": {
    "tags": []
   },
   "outputs": [],
   "source": [
    "text = '11-Dec-2021`'\n",
    "print(text.strip())"
   ]
  },
  {
   "cell_type": "code",
   "execution_count": null,
   "id": "1e2dd851-d238-435a-87e8-74928eabeec3",
   "metadata": {},
   "outputs": [],
   "source": []
  }
 ],
 "metadata": {
  "kernelspec": {
   "display_name": "Python 3 (ipykernel)",
   "language": "python",
   "name": "python3"
  },
  "language_info": {
   "codemirror_mode": {
    "name": "ipython",
    "version": 3
   },
   "file_extension": ".py",
   "mimetype": "text/x-python",
   "name": "python",
   "nbconvert_exporter": "python",
   "pygments_lexer": "ipython3",
   "version": "3.11.5"
  }
 },
 "nbformat": 4,
 "nbformat_minor": 5
}
