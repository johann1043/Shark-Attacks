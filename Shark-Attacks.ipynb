{
 "cells": [
  {
   "cell_type": "code",
   "execution_count": 40,
   "id": "e4098841-231e-4e7f-baa5-9dc7f3dd1e2b",
   "metadata": {
    "tags": []
   },
   "outputs": [
    {
     "ename": "SyntaxError",
     "evalue": "unexpected character after line continuation character (4110935569.py, line 2)",
     "output_type": "error",
     "traceback": [
      "\u001b[1;36m  Cell \u001b[1;32mIn[40], line 2\u001b[1;36m\u001b[0m\n\u001b[1;33m    from .\\Users\\vonke\\Documents\\Ironhack\\Ironhack Week 2\\Day 1\\Shark-Attacks\\functions.py import my_function\u001b[0m\n\u001b[1;37m           ^\u001b[0m\n\u001b[1;31mSyntaxError\u001b[0m\u001b[1;31m:\u001b[0m unexpected character after line continuation character\n"
     ]
    }
   ],
   "source": [
    "import pandas as pd\n",
    "from .\\Users\\vonke\\Documents\\Ironhack\\Ironhack Week 2\\Day 1\\Shark-Attacks\\functions.py import my_function"
   ]
  },
  {
   "cell_type": "code",
   "execution_count": null,
   "id": "21ea6778-86c0-4e67-8d66-27de14ff723d",
   "metadata": {
    "tags": []
   },
   "outputs": [],
   "source": [
    "my_function()"
   ]
  },
  {
   "cell_type": "code",
   "execution_count": null,
   "id": "f4511291-7b48-42d1-970a-24926a4b9430",
   "metadata": {},
   "outputs": [],
   "source": []
  }
 ],
 "metadata": {
  "kernelspec": {
   "display_name": "Python 3 (ipykernel)",
   "language": "python",
   "name": "python3"
  },
  "language_info": {
   "codemirror_mode": {
    "name": "ipython",
    "version": 3
   },
   "file_extension": ".py",
   "mimetype": "text/x-python",
   "name": "python",
   "nbconvert_exporter": "python",
   "pygments_lexer": "ipython3",
   "version": "3.11.5"
  }
 },
 "nbformat": 4,
 "nbformat_minor": 5
}
